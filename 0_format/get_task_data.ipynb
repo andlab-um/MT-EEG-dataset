{
 "metadata": {
  "language_info": {
   "codemirror_mode": {
    "name": "ipython",
    "version": 3
   },
   "file_extension": ".py",
   "mimetype": "text/x-python",
   "name": "python",
   "nbconvert_exporter": "python",
   "pygments_lexer": "ipython3",
   "version": "3.8.3-final"
  },
  "orig_nbformat": 2,
  "kernelspec": {
   "name": "python3",
   "display_name": "Python 3.8.3 64-bit ('const': virtualenv)",
   "metadata": {
    "interpreter": {
     "hash": "38ef801049279a193b5886f069dab2a750b018e1af93efb22ea8210fc2c9a190"
    }
   }
  }
 },
 "nbformat": 4,
 "nbformat_minor": 2,
 "cells": [
  {
   "cell_type": "code",
   "execution_count": null,
   "metadata": {},
   "outputs": [],
   "source": [
    "import os\n",
    "import copy\n",
    "import shutil\n",
    "import pandas as pd\n",
    "import os.path as op"
   ]
  },
  {
   "cell_type": "code",
   "execution_count": null,
   "metadata": {},
   "outputs": [],
   "source": [
    "# set path\n",
    "# first copy original files into fmt_path\n",
    "raw_path = \"D:\\\\EGI_DATA\\\\EGI_RAW\"\n",
    "fmt_path = \"D:\\\\EGI_DATA\\\\EGI_FMT\"\n",
    "edf_path = \"D:\\\\EGI_DATA\\\\EGI_EDF\"\n",
    "bids_root_path = \"D:\\\\EGI_DATA\\\\EGI_BIDS\"\n",
    "food_path = \"D:\\\\EGI_DATA\\\\EGI_FOOD\"\n",
    "rest_path = \"D:\\\\EGI_DATA\\\\EGI_REST\"\n",
    "beh_path = \"beh\"\n",
    "rec_path = \"rec\"\n",
    "eeg_path = \"eeg\"\n",
    "# set task name\n",
    "wordtask = \"wordchoice\"\n",
    "imagetask = \"imagechoice\"\n",
    "foodtask = \"foodchoice\"\n",
    "rest = \"rest\""
   ]
  },
  {
   "source": [
    "## get food task data"
   ],
   "cell_type": "markdown",
   "metadata": {}
  },
  {
   "cell_type": "code",
   "execution_count": null,
   "metadata": {},
   "outputs": [],
   "source": [
    "if op.exists(food_path):\n",
    "    shutil.rmtree(food_path)\n",
    "if not op.exists(op.join(food_path, eeg_path)):\n",
    "    os.makedirs(op.join(food_path, eeg_path))\n",
    "if not op.exists(op.join(food_path, beh_path)):\n",
    "    os.makedirs(op.join(food_path, beh_path))"
   ]
  },
  {
   "cell_type": "code",
   "execution_count": null,
   "metadata": {},
   "outputs": [],
   "source": [
    "task_set = set([\"foodEnd\", \"foodChoice\", \"foodHealthy\", \"foodTaste\"])\n",
    "task_dict = {\"-F\": \"foodchoice\", \"FC_\": \"foodchoice\"}\n",
    "total = 0\n",
    "for sub in os.listdir(raw_path):\n",
    "    # under \"sub-xxx\" directory\n",
    "    for directory in os.listdir(os.path.join(raw_path, sub)):\n",
    "        # eeg data\n",
    "        if \"EEG DATA\" in directory or \"EEG_DATA\" in directory:\n",
    "            # sub-001 to sub-015\n",
    "            if sub <= \"sub-015\":\n",
    "                for mff in os.listdir(os.path.join(raw_path, sub, directory, \"ori_mff\")):\n",
    "                    if \"fil\" in mff:\n",
    "                        continue\n",
    "                    for key, value in task_dict.items():\n",
    "                        if key in mff.upper():\n",
    "                            # print(os.path.join(raw_path, sub, directory, \"ori_mff\", mff))\n",
    "                            shutil.copytree(os.path.join(raw_path, sub, directory, \"ori_mff\", mff), os.path.join(food_path, eeg_path, \"{}_task-{}_eeg.mff\".format(sub, value)))\n",
    "                            break\n",
    "            # sub-016 to sub-031\n",
    "            else:\n",
    "                for mff in os.listdir(os.path.join(raw_path, sub, directory)):\n",
    "                    if \"fil.edf\" in mff or \"fil.mff\" in mff:\n",
    "                        continue\n",
    "                    else:\n",
    "                        for key, value in task_dict.items():\n",
    "                            if key in mff.upper():\n",
    "                                shutil.copytree(os.path.join(raw_path, sub, directory, mff), os.path.join(food_path, eeg_path, \"{}_task-{}_eeg.mff\".format(sub, value)))\n",
    "                                # print(os.path.join(raw_path, sub, directory, mff))\n",
    "                                break\n",
    "        # behavioral data\n",
    "        elif \"Beha\" in directory:\n",
    "            for csv in os.listdir(os.path.join(raw_path, sub, directory)):\n",
    "                cross = set(csv.split(\"_\")) & task_set\n",
    "                if len(cross) != 0:\n",
    "                    total += 1\n",
    "                    # print(os.path.join(fmt_path, sub, beh_path, csv))\n",
    "                    shutil.copy(os.path.join(raw_path, sub, directory, csv), os.path.join(food_path, beh_path, \"{}_task-{}_beh.csv\".format(sub, list(cross)[0]).lower()))"
   ]
  },
  {
   "source": [
    "## participants"
   ],
   "cell_type": "markdown",
   "metadata": {}
  },
  {
   "cell_type": "code",
   "execution_count": null,
   "metadata": {},
   "outputs": [],
   "source": [
    "excel_path = \"./assets/participants.xlsx\"\n",
    "participants = pd.read_excel(excel_path)"
   ]
  },
  {
   "cell_type": "code",
   "execution_count": null,
   "metadata": {},
   "outputs": [],
   "source": [
    "participants.columns = [\"participant_id\", \"name\", \"sex\", \"age\"]"
   ]
  },
  {
   "cell_type": "code",
   "execution_count": null,
   "metadata": {},
   "outputs": [],
   "source": [
    "participants.drop(columns=[\"name\"], inplace=True)"
   ]
  },
  {
   "cell_type": "code",
   "execution_count": null,
   "metadata": {},
   "outputs": [],
   "source": [
    "# participants.to_csv(op.join(bids_root_path, \"participants.tsv\"), index=False, sep='\\t')"
   ]
  },
  {
   "source": [
    "# get rest task data"
   ],
   "cell_type": "markdown",
   "metadata": {}
  },
  {
   "cell_type": "code",
   "execution_count": null,
   "metadata": {},
   "outputs": [],
   "source": [
    "if op.exists(rest_path):\n",
    "    shutil.rmtree(rest_path)\n",
    "else:\n",
    "    os.makedirs(rest_path)"
   ]
  },
  {
   "cell_type": "code",
   "execution_count": null,
   "metadata": {},
   "outputs": [],
   "source": [
    "task_dict = {\"-R\": \"rest\", \"RS_\": \"rest\"}\n",
    "total = 0\n",
    "for sub in os.listdir(raw_path):\n",
    "    # under \"sub-xxx\" directory\n",
    "    for directory in os.listdir(os.path.join(raw_path, sub)):\n",
    "        # eeg data\n",
    "        if \"EEG DATA\" in directory or \"EEG_DATA\" in directory:\n",
    "            # sub-001 to sub-015\n",
    "            if sub <= \"sub-015\":\n",
    "                for mff in os.listdir(os.path.join(raw_path, sub, directory, \"ori_mff\")):\n",
    "                    if \"fil\" in mff:\n",
    "                        continue\n",
    "                    for key, value in task_dict.items():\n",
    "                        if key in mff.upper():\n",
    "                            # print(os.path.join(raw_path, sub, directory, \"ori_mff\", mff))\n",
    "                            shutil.copytree(os.path.join(raw_path, sub, directory, \"ori_mff\", mff), os.path.join(rest_path, \"{}_task-{}_eeg.mff\".format(sub, value)))\n",
    "                            break\n",
    "            # sub-016 to sub-031\n",
    "            else:\n",
    "                for mff in os.listdir(os.path.join(raw_path, sub, directory)):\n",
    "                    if \"fil.edf\" in mff or \"fil.mff\" in mff:\n",
    "                        continue\n",
    "                    else:\n",
    "                        for key, value in task_dict.items():\n",
    "                            if key in mff.upper():\n",
    "                                shutil.copytree(os.path.join(raw_path, sub, directory, mff), os.path.join(rest_path, \"{}_task-{}_eeg.mff\".format(sub, value)))\n",
    "                                # print(os.path.join(raw_path, sub, directory, mff))\n",
    "                                break"
   ]
  }
 ]
}