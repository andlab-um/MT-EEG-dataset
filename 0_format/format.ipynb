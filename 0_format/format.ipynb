{
 "metadata": {
  "language_info": {
   "codemirror_mode": {
    "name": "ipython",
    "version": 3
   },
   "file_extension": ".py",
   "mimetype": "text/x-python",
   "name": "python",
   "nbconvert_exporter": "python",
   "pygments_lexer": "ipython3",
   "version": "3.9.1"
  },
  "orig_nbformat": 2,
  "kernelspec": {
   "name": "python3",
   "display_name": "Python 3.9.1 64-bit ('base': conda)"
  },
  "interpreter": {
   "hash": "52ebc9b852cbba287a04e33bfd2a062dc1337ed1d55768405efe5997548ba37a"
  }
 },
 "nbformat": 4,
 "nbformat_minor": 2,
 "cells": [
  {
   "cell_type": "markdown",
   "source": [
    "# 0 Basic setup"
   ],
   "metadata": {}
  },
  {
   "cell_type": "code",
   "execution_count": null,
   "source": [
    "import os\r\n",
    "import shutil\r\n",
    "\r\n",
    "# for eeg data\r\n",
    "import mne\r\n",
    "from mff2edf import write_mne_edf\r\n",
    "from mne_bids import write_raw_bids, BIDSPath, print_dir_tree, update_sidecar_json"
   ],
   "outputs": [],
   "metadata": {}
  },
  {
   "cell_type": "code",
   "execution_count": null,
   "source": [
    "# set path\r\n",
    "base_path = \"./data/EGI_DATA\"\r\n",
    "raw_path = os.path.join(base_path, \"EGI_RAW\")\r\n",
    "fmt_path = os.path.join(base_path, \"EGI_FMT\")\r\n",
    "edf_path = os.path.join(base_path, \"EGI_EDF\")\r\n",
    "bids_root_path = os.path.join(base_path, \"EGI_BIDS\")\r\n",
    "beh_path = \"beh\"\r\n",
    "rec_path = \"rec\"\r\n",
    "eeg_path = \"eeg\"\r\n",
    "# set task name\r\n",
    "wordtask = \"wordchoice\"\r\n",
    "imagetask = \"imagechoice\"\r\n",
    "foodtask = \"foodchoice\"\r\n",
    "wmtask = \"wordimagematch\"\r\n",
    "rest = \"rest\""
   ],
   "outputs": [],
   "metadata": {}
  },
  {
   "cell_type": "markdown",
   "source": [
    "# 1 Format raw data"
   ],
   "metadata": {}
  },
  {
   "cell_type": "markdown",
   "source": [
    "## 1-1 Format main data"
   ],
   "metadata": {}
  },
  {
   "cell_type": "code",
   "execution_count": null,
   "source": [
    "if os.path.exists(fmt_path):\r\n",
    "    shutil.rmtree(fmt_path)\r\n",
    "else:\r\n",
    "    os.mkdir(fmt_path)"
   ],
   "outputs": [],
   "metadata": {}
  },
  {
   "cell_type": "code",
   "execution_count": null,
   "source": [
    "task_set = set([\"foodEnd\", \"foodChoice\", \"foodHealthy\", \"imageChoice\", \"wordChoice\", \"wordImageMatch\", \"foodTaste\"])\r\n",
    "task_dict = {\"F\": \"foodchoice\", \"FC\": \"foodchoice\", \"I\": \"imagechoice\", \"IC\": \"imagechoice\", \"W\": \"wordchoice\", \"WC\": \"wordchoice\", \"R\": \"rest\", \"RS\": \"rest\", \"WM\": \"wordimagematch\", \"WM\": \"wordimagematch\"}\r\n",
    "total = 0\r\n",
    "for sub in os.listdir(raw_path):\r\n",
    "    # under \"sub-xxx\" directory\r\n",
    "    if not os.path.exists(os.path.join(fmt_path, sub, eeg_path)):\r\n",
    "        os.makedirs(os.path.join(fmt_path, sub, eeg_path))\r\n",
    "    if not os.path.exists(os.path.join(fmt_path, sub, beh_path)):\r\n",
    "        os.makedirs(os.path.join(fmt_path, sub, beh_path))\r\n",
    "    for directory in os.listdir(os.path.join(raw_path, sub)):\r\n",
    "        # eeg data\r\n",
    "        if \"EEG DATA\" in directory or \"EEG_DATA\" in directory:\r\n",
    "            # sub-001 to sub-015\r\n",
    "            cur_eeg_path = os.path.join(raw_path, sub, directory)\r\n",
    "            if sub <= \"sub-015\":\r\n",
    "                cur_eeg_path = os.path.join(cur_eeg_path, \"ori_mff\")\r\n",
    "            for mff in os.listdir(cur_eeg_path):\r\n",
    "                if \"fil.mff\" in mff or \"fil.edf\" in mff:\r\n",
    "                    continue\r\n",
    "                for key, value in task_dict.items():\r\n",
    "                    if key in mff[:-4].upper().replace('-', ' ').replace('_', ' ').split():\r\n",
    "                        print(os.path.join(cur_eeg_path, mff))\r\n",
    "                        shutil.copytree(os.path.join(cur_eeg_path, mff), os.path.join(fmt_path, sub, eeg_path, \"{}_task-{}_eeg.mff\".format(sub, value)))\r\n",
    "                        break\r\n",
    "        # behavioral data\r\n",
    "        elif \"Beha\" in directory:\r\n",
    "            for csv in os.listdir(os.path.join(raw_path, sub, directory)):\r\n",
    "                cross = set(csv.split(\"_\")) & task_set\r\n",
    "                if len(cross) != 0:\r\n",
    "                    total += 1\r\n",
    "                    # print(os.path.join(fmt_path, sub, beh_path, csv))\r\n",
    "                    shutil.copy(os.path.join(raw_path, sub, directory, csv), os.path.join(fmt_path, sub, beh_path, \"{}_task-{}_beh.csv\".format(sub, list(cross)[0]).lower()))"
   ],
   "outputs": [],
   "metadata": {}
  },
  {
   "cell_type": "markdown",
   "source": [
    "## 1-2 Delete irrelevant data"
   ],
   "metadata": {}
  },
  {
   "cell_type": "code",
   "execution_count": null,
   "source": [
    "# delete wordimagematch eeg data\r\n",
    "for sub in os.listdir(fmt_path):\r\n",
    "    # shutil.rmtree(os.path.join(fmt_path, sub, beh_path), ignore_errors=True)\r\n",
    "    shutil.rmtree(os.path.join(fmt_path, sub, eeg_path, \"{}_task-{}_eeg.mff\".format(sub, wmtask)), ignore_errors=True)"
   ],
   "outputs": [],
   "metadata": {}
  },
  {
   "cell_type": "markdown",
   "source": [
    "# 2 Convert .mff to .edf"
   ],
   "metadata": {}
  },
  {
   "cell_type": "code",
   "execution_count": null,
   "source": [
    "if os.path.exists(edf_path):\r\n",
    "    shutil.rmtree(edf_path)\r\n",
    "else:\r\n",
    "    os.mkdir(edf_path)"
   ],
   "outputs": [],
   "metadata": {}
  },
  {
   "cell_type": "code",
   "execution_count": null,
   "source": [
    "# place edf files in edf_path\r\n",
    "for sub in os.listdir(fmt_path):\r\n",
    "    # create sub/eeg path if not exist\r\n",
    "    if not os.path.exists(os.path.join(edf_path, sub)):\r\n",
    "        os.makedirs(os.path.join(edf_path, sub, eeg_path))\r\n",
    "    for mff in os.listdir(os.path.join(fmt_path, sub, eeg_path)):\r\n",
    "        edf_file_path = os.path.join(edf_path, sub, eeg_path, \"{}edf\".format(mff[:-3]))\r\n",
    "        if not os.path.exists(edf_file_path):\r\n",
    "            write_mne_edf(os.path.join(fmt_path, sub, eeg_path, mff), edf_file_path, overwrite=True)"
   ],
   "outputs": [],
   "metadata": {}
  },
  {
   "cell_type": "markdown",
   "source": [
    "# 3 Get BIDS data"
   ],
   "metadata": {}
  },
  {
   "cell_type": "markdown",
   "source": [
    "## 3-1 Write basic files"
   ],
   "metadata": {}
  },
  {
   "cell_type": "code",
   "execution_count": null,
   "source": [
    "if os.path.exists(bids_root_path):\r\n",
    "    shutil.rmtree(bids_root_path)\r\n",
    "else:\r\n",
    "    os.makedirs(bids_root_path)"
   ],
   "outputs": [],
   "metadata": {}
  },
  {
   "cell_type": "code",
   "execution_count": null,
   "source": [
    "# TODO\r\n",
    "for sub in os.listdir(edf_path):\r\n",
    "    # create sub/eeg path if not exist\r\n",
    "    # if not os.path.exists(os.path.join(edf_path, sub)):\r\n",
    "    #     os.makedirs(os.path.join(edf_path, sub, eeg_path))\r\n",
    "    for edf_file in os.listdir(os.path.join(edf_path, sub, eeg_path)):\r\n",
    "        subject_id = edf_file.split(\"_\")[0].split(\"-\")[1]\r\n",
    "        task = edf_file.split(\"_\")[1].split(\"-\")[1]\r\n",
    "        bids_path = BIDSPath(subject=subject_id, task=task, root=bids_root_path)\r\n",
    "        raw = mne.io.read_raw_edf(os.path.join(edf_path, sub, eeg_path, edf_file), preload=False)\r\n",
    "        montage = mne.channels.make_standard_montage(\"GSN-HydroCel-129\")\r\n",
    "        montage.ch_names[-1] = \"E129\"\r\n",
    "        raw.set_montage(montage)\r\n",
    "        raw.info[\"line_freq\"] = 50\r\n",
    "        write_raw_bids(raw, bids_path, overwrite=True)"
   ],
   "outputs": [],
   "metadata": {}
  },
  {
   "cell_type": "markdown",
   "source": [
    "## 3-2 Update *_eeg.json"
   ],
   "metadata": {}
  },
  {
   "cell_type": "code",
   "execution_count": null,
   "source": [
    "# update *_eeg.json\r\n",
    "entries = {\r\n",
    "    \"EEGReference\": \"E129\",\r\n",
    "    \"Manufacturer\": \"Electrical Geodesic Incorporated\"\r\n",
    "}\r\n",
    "\r\n",
    "bids_path = BIDSPath(datatype=\"eeg\", suffix=\"eeg\", root=bids_root_path)\r\n",
    "for eeg_file in bids_path.copy().match():\r\n",
    "    eeg_json_path = eeg_file.update(extension=\".json\")\r\n",
    "    update_sidecar_json(bids_path=eeg_json_path, entries=entries)"
   ],
   "outputs": [],
   "metadata": {}
  },
  {
   "cell_type": "markdown",
   "source": [
    "## 3-3 Add *_events.json"
   ],
   "metadata": {}
  },
  {
   "cell_type": "code",
   "execution_count": null,
   "source": [
    "# import json\r\n",
    "# tasks = [wordtask, imagetask, foodtask, rest]\r\n",
    "# subjects = [str(i).zfill(3) for i in range(1, 32)]"
   ],
   "outputs": [],
   "metadata": {}
  },
  {
   "cell_type": "code",
   "execution_count": null,
   "source": [
    "# for sub in subjects:\r\n",
    "#     for task in tasks:\r\n",
    "#         event_json_path = BIDSPath(subject=sub, task=task, datatype=\"eeg\",\r\n",
    "#                             suffix=\"events\", extension=\".json\", root=bids_root_path)\r\n",
    "#         json.dumps(event_json_path, indent=4)"
   ],
   "outputs": [],
   "metadata": {}
  },
  {
   "cell_type": "markdown",
   "source": [
    "## 3-4 Add behavior tsv file"
   ],
   "metadata": {}
  },
  {
   "cell_type": "code",
   "execution_count": null,
   "source": [
    "def getBehTsv(file_in, file_out, task):\r\n",
    "    def fc_task(sdf):\r\n",
    "        sdf[\"trialIndex\"] = sdf[\"images.thisN\"].apply(int)\r\n",
    "        sdf[\"left_option\"], sdf[\"right_option\"] = sdf[\"left_image\"], sdf[\"right_image\"]\r\n",
    "        sdf[\"response\"] = sdf[\"mouse.clicked_name\"].map({\"image_left\": \"left\", \"image_right\": \"right\"})\r\n",
    "        return sdf[[\"trialIndex\", \"left_option\", \"right_option\", \"response\",\r\n",
    "                \"response_time\", \"xTrajectory\", \"yTrajectory\", \"tTrajectory\"]]\r\n",
    "    def wc_task(sdf):\r\n",
    "        sdf[\"trialIndex\"] = sdf[\"words.thisN\"].apply(int)\r\n",
    "        # stimuli\r\n",
    "        for option in [\"option_left\", \"option_right\"]:\r\n",
    "            sdf[option] = sdf[option].map({\"有生命\": \"animate\", \"无生命\": \"inanimate\"})\r\n",
    "        sdf[\"stimulus\"] = sdf[\"item\"]\r\n",
    "        # options\r\n",
    "        sdf[\"left_option\"], sdf[\"right_option\"] = sdf[\"option_left\"], sdf[\"option_right\"]\r\n",
    "        sdf[\"response\"] = sdf[\"mouse.clicked_name\"].map({\"rect_left\": \"left\", \"rect_right\": \"right\"})\r\n",
    "        \r\n",
    "        return sdf[[\"trialIndex\", \"stimulus\", \"isAnimate\", \"left_option\", \"right_option\", \"response\",\r\n",
    "                \"response_time\", \"xTrajectory\", \"yTrajectory\", \"tTrajectory\"]]\r\n",
    "    def ic_task(sdf):\r\n",
    "        sdf[\"trialIndex\"] = sdf[\"images.thisN\"].apply(int)\r\n",
    "        # rename option\r\n",
    "        for option in [\"option_left\", \"option_right\"]:\r\n",
    "            sdf[option] = sdf[option].map({\"有生命\": \"animate\", \"无生命\": \"inanimate\"})\r\n",
    "        sdf[\"stimulus\"] = sdf[\"item\"].apply(lambda x: x.replace(\"non-\", \"in\"))\r\n",
    "        # options\r\n",
    "        sdf[\"left_option\"], sdf[\"right_option\"] = sdf[\"option_left\"], sdf[\"option_right\"]\r\n",
    "        sdf[\"response\"] = sdf[\"mouse.clicked_name\"].map({\"rect_left\": \"left\", \"rect_right\": \"right\"})\r\n",
    "        return sdf[[\"trialIndex\", \"stimulus\", \"left_option\", \"right_option\", \"response\",\r\n",
    "                \"response_time\", \"xTrajectory\", \"yTrajectory\", \"tTrajectory\"]]\r\n",
    "\r\n",
    "    # used to extract rt\r\n",
    "    stim_rec = {\r\n",
    "        foodtask: [\"image_right.started\", \"image_right_2.started\"],\r\n",
    "        wordtask: [\"word_item.started\", \"word_item_2.started\"],\r\n",
    "        imagetask: [\"image_item.started\", \"image_item_2.started\"]\r\n",
    "    }\r\n",
    "    # used to get func\r\n",
    "    task_prep = {\r\n",
    "        foodtask: fc_task,\r\n",
    "        wordtask: wc_task,\r\n",
    "        imagetask: ic_task\r\n",
    "    }\r\n",
    "    # get data\r\n",
    "    df = pd.read_csv(file_in)[1:321]\r\n",
    "    df[\"response_time\"] = df[stim_rec[task]].apply(lambda x: np.round((x[stim_rec[task][1]] - x[stim_rec[task][0]]), 3), axis=1)\r\n",
    "\r\n",
    "    # little preprocess\r\n",
    "    df = task_prep[task](df)\r\n",
    "    # write to bids\r\n",
    "    df.to_csv(file_out, index=False, sep=\"\\t\")\r\n"
   ],
   "outputs": [],
   "metadata": {}
  },
  {
   "cell_type": "code",
   "execution_count": null,
   "source": [
    "for sub in os.listdir(edf_path):\r\n",
    "    os.makedirs(os.path.join(bids_root_path, sub, beh_path))\r\n",
    "    for task in [foodtask, wordtask, imagetask]:\r\n",
    "        file_in = os.path.join(fmt_path, sub, beh_path, \"{}_task-{}_beh.csv\".format(sub, task))\r\n",
    "        file_out = os.path.join(bids_root_path, sub, beh_path, \"{}_task-{}_beh.tsv\".format(sub, task))\r\n",
    "        getBehTsv(file_in, file_out, task)"
   ],
   "outputs": [],
   "metadata": {}
  },
  {
   "cell_type": "markdown",
   "source": [
    "## 3-5 Add *_beh.json"
   ],
   "metadata": {}
  },
  {
   "cell_type": "code",
   "execution_count": null,
   "source": [
    "entries = {\r\n",
    "    \"trialIndex\": {\r\n",
    "        \"Description\": \"Index of the current trial, used to align with EEG data when some EEG trigger lost.\"\r\n",
    "    },\r\n",
    "    \"left_option\": {\r\n",
    "        \"Description\": \"Clickable option on the left side on the screen.\"\r\n",
    "    },\r\n",
    "    \"right_option\": {\r\n",
    "        \"Description\": \"Clickable option on the right side on the screen.\"\r\n",
    "    },\r\n",
    "    \"response\": {\r\n",
    "        \"Description\": \"The side which the participant choose.\",\r\n",
    "        \"Level\": {\r\n",
    "            \"left\": \"The participant choose the left_optioin.\",\r\n",
    "            \"right\": \"The participant choose the right_optioin.\"\r\n",
    "        }\r\n",
    "    },\r\n",
    "    \"response_time\": {\r\n",
    "        \"Description\": \"Response time measured in seconds.\",\r\n",
    "        \"Units\": \"second\"\r\n",
    "    },\r\n",
    "    \"xTrajectory\": {\r\n",
    "        \"Description\": \"The x coordinate of the mouse trajectory over time.\",\r\n",
    "        \"Units\": \"pixel\"\r\n",
    "    },\r\n",
    "    \"yTrajectory\": {\r\n",
    "        \"Description\": \"The y coordinate of the mouse trajectory over time.\",\r\n",
    "        \"Units\": \"pixel\"\r\n",
    "    },\r\n",
    "    \"tTrajectory\": {\r\n",
    "        \"Description\": \"The time point which corrresdponds to the (x, y) coordinate series.\",\r\n",
    "        \"Units\": \"second\"\r\n",
    "    }\r\n",
    "}\r\n",
    "w_entries = entries.copy()\r\n",
    "i_entries = entries.copy()\r\n",
    "w_entries[\"stimulus\"] = {\"Description\": \"Name of the word stimulus.\" }\r\n",
    "w_entries[\"isAnimate\"] = { \"Description\": \"Whether the stimulus is animate.\" }\r\n",
    "i_entries[\"stimulus\"] = { \"Description\": \"File name of the image stimulus.\" }"
   ],
   "outputs": [],
   "metadata": {}
  },
  {
   "cell_type": "code",
   "execution_count": null,
   "source": [
    "# food choice\r\n",
    "bids_path = BIDSPath(datatype=\"beh\", suffix=\"beh\", task=foodtask, root=bids_root_path)\r\n",
    "for beh_file in bids_path.copy().match():\r\n",
    "    beh_json_path = beh_file.update(extension=\".json\")\r\n",
    "    with open(beh_json_path, \"w\") as f:\r\n",
    "        json.dump(entries, f, indent=4)"
   ],
   "outputs": [],
   "metadata": {}
  },
  {
   "cell_type": "code",
   "execution_count": null,
   "source": [
    "# word choice\r\n",
    "bids_path = BIDSPath(datatype=\"beh\", suffix=\"beh\", task=wordtask, root=bids_root_path)\r\n",
    "for beh_file in bids_path.copy().match():\r\n",
    "    beh_json_path = beh_file.update(extension=\".json\")\r\n",
    "    with open(beh_json_path, \"w\") as f:\r\n",
    "        json.dump(w_entries, f, indent=4)"
   ],
   "outputs": [],
   "metadata": {}
  },
  {
   "cell_type": "code",
   "execution_count": null,
   "source": [
    "# image choice\r\n",
    "bids_path = BIDSPath(datatype=\"beh\", suffix=\"beh\", task=imagetask, root=bids_root_path)\r\n",
    "for beh_file in bids_path.copy().match():\r\n",
    "    beh_json_path = beh_file.update(extension=\".json\")\r\n",
    "    with open(beh_json_path, \"w\") as f:\r\n",
    "        json.dump(i_entries, f, indent=4)"
   ],
   "outputs": [],
   "metadata": {}
  },
  {
   "cell_type": "markdown",
   "source": [
    "## 3-6 Update dataset_description"
   ],
   "metadata": {}
  },
  {
   "cell_type": "code",
   "execution_count": null,
   "source": [
    "entries = {\r\n",
    "    \"Name\": \"HD-EEG task with mouse tracking\",\r\n",
    "    \"BIDSVersion\": \"1.6.0\",\r\n",
    "    \"DatasetType\": \"raw\",\r\n",
    "    \"Authors\": [\r\n",
    "        \"Kun Chen\",\r\n",
    "        \"Ruien Wang\",\r\n",
    "        \"Jiamin Huang\",\r\n",
    "        \"Fei Gao\",\r\n",
    "        \"Zhen Yuan\",\r\n",
    "        \"Yanyan Qi\",\r\n",
    "        \"Haiyan Wu\"\r\n",
    "    ],\r\n",
    "    \"KeyWords\": [\r\n",
    "        \"Electroencephalography\",\r\n",
    "        \"Decision making\",\r\n",
    "        \"Mouse-racking\",\r\n",
    "        \"Resting state\"\r\n",
    "    ]\r\n",
    "}"
   ],
   "outputs": [],
   "metadata": {}
  },
  {
   "cell_type": "code",
   "execution_count": null,
   "source": [
    "with open(os.path.join(bids_root_path, \"dataset_description.json\"), \"w\") as f:\r\n",
    "    json.dump(entries, f, indent=4)"
   ],
   "outputs": [],
   "metadata": {}
  }
 ]
}