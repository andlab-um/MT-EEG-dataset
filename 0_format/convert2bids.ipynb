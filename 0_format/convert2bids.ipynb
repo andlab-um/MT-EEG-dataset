{
 "cells": [
  {
   "cell_type": "markdown",
   "metadata": {},
   "source": [
    "# 0 Basic setup"
   ]
  },
  {
   "cell_type": "code",
   "execution_count": null,
   "metadata": {},
   "outputs": [],
   "source": [
    "import os\n",
    "import json\n",
    "import shutil\n",
    "import numpy as np\n",
    "import pandas as pd\n",
    "from glob import glob\n",
    "from tqdm import tqdm\n",
    "\n",
    "# for eeg data\n",
    "import mne\n",
    "from mne_bids import write_raw_bids, BIDSPath, update_sidecar_json"
   ]
  },
  {
   "cell_type": "code",
   "execution_count": null,
   "metadata": {},
   "outputs": [],
   "source": [
    "# set path\n",
    "# root_path = \"/media/haiyanwu/Data/EGI_DATA\"\n",
    "root_path = os.path.join(\"..\", \"..\", \"EGI_DATA\")\n",
    "raw_path = os.path.join(root_path, \"EGI_RAW\")\n",
    "src_path = os.path.join(root_path, \"EGI_SRC\")\n",
    "set_path = os.path.join(root_path, \"EGI_SET\")\n",
    "bids_root_path = os.path.join(root_path, \"EGI_BIDS\")\n",
    "beh_path = \"beh\"\n",
    "rec_path = \"rec\"\n",
    "eeg_path = \"eeg\"\n",
    "# set task name\n",
    "foodtask = \"foodchoice\"\n",
    "wordtask = \"wordchoice\"\n",
    "imagetask = \"imagechoice\"\n",
    "wmtask = \"wordimagematch\"\n",
    "resting = \"resting\""
   ]
  },
  {
   "cell_type": "markdown",
   "metadata": {},
   "source": [
    "# 1 Format raw data"
   ]
  },
  {
   "cell_type": "markdown",
   "metadata": {},
   "source": [
    "## 1-1 Format main data"
   ]
  },
  {
   "cell_type": "code",
   "execution_count": null,
   "metadata": {},
   "outputs": [],
   "source": [
    "if os.path.exists(src_path):\n",
    "    shutil.rmtree(src_path)\n",
    "else:\n",
    "    os.mkdir(src_path)"
   ]
  },
  {
   "cell_type": "code",
   "execution_count": null,
   "metadata": {},
   "outputs": [],
   "source": [
    "task_set = set([\"foodEnd\", \"foodChoice\", \"foodHealthy\", \"imageChoice\", \"wordChoice\", \"wordImageMatch\", \"foodTaste\"])\n",
    "task_dict = {\"F\": foodtask, \"FC\": foodtask, \"I\": imagetask, \"IC\": imagetask, \"W\": wordtask, \"WC\": wordtask, \"R\": resting, \"RS\": resting, \"WM\": wmtask, \"WM\": wmtask}\n",
    "total = 0\n",
    "for sub in tqdm(os.listdir(raw_path)):\n",
    "    # under \"sub-xx\" directory\n",
    "    if not os.path.exists(os.path.join(src_path, sub, eeg_path)):\n",
    "        os.makedirs(os.path.join(src_path, sub, eeg_path))\n",
    "    if not os.path.exists(os.path.join(src_path, sub, beh_path)):\n",
    "        os.makedirs(os.path.join(src_path, sub, beh_path))\n",
    "    for directory in os.listdir(os.path.join(raw_path, sub)):\n",
    "        # eeg data\n",
    "        if \"EEG DATA\" in directory or \"EEG_DATA\" in directory:\n",
    "            cur_eeg_path = os.path.join(raw_path, sub, directory)\n",
    "            if sub <= \"sub-15\":\n",
    "                # sub-01 to sub-15\n",
    "                cur_eeg_path = os.path.join(cur_eeg_path, \"ori_mff\")\n",
    "            for mff in os.listdir(cur_eeg_path):\n",
    "                if \"fil.mff\" in mff or \"fil.edf\" in mff:\n",
    "                    continue\n",
    "                for key, value in task_dict.items():\n",
    "                    if key in mff[:-4].upper().replace(\"-\", \" \").replace(\"_\", \" \").split():\n",
    "                        # print(os.path.join(cur_eeg_path, mff))\n",
    "                        shutil.copytree(os.path.join(cur_eeg_path, mff), os.path.join(src_path, sub, eeg_path, f\"{sub}_task-{value}_eeg.mff\"))\n",
    "                        break\n",
    "        # behavioral data\n",
    "        elif \"Beha\" in directory:\n",
    "            for csv in os.listdir(os.path.join(raw_path, sub, directory)):\n",
    "                cross = set(csv.split(\"_\")) & task_set\n",
    "                if len(cross) != 0:\n",
    "                    total += 1\n",
    "                    # print(os.path.join(src_path, sub, beh_path, csv))\n",
    "                    shutil.copy(os.path.join(raw_path, sub, directory, csv), os.path.join(src_path, sub, beh_path, f\"{sub}_task-{list(cross)[0]}_beh.csv\".lower()))"
   ]
  },
  {
   "cell_type": "markdown",
   "metadata": {},
   "source": [
    "## 1-2 Delete irrelevant task data"
   ]
  },
  {
   "cell_type": "code",
   "execution_count": null,
   "metadata": {},
   "outputs": [],
   "source": [
    "# delete wordimagematch data\n",
    "for wmdata_path in glob(os.path.join(src_path, \"*\", \"*\", f\"*{wmtask}*\")):\n",
    "    if os.path.isfile(wmdata_path):\n",
    "        os.remove(wmdata_path)\n",
    "    elif os.path.isdir(wmdata_path):\n",
    "        shutil.rmtree(wmdata_path)"
   ]
  },
  {
   "cell_type": "markdown",
   "metadata": {},
   "source": [
    "## 1-3 Delete subject related information"
   ]
  },
  {
   "cell_type": "code",
   "execution_count": null,
   "metadata": {},
   "outputs": [],
   "source": [
    "# in mff files\n",
    "for mff_file in glob(os.path.join(src_path, \"*\", eeg_path, \"*.mff\")):\n",
    "    # subject xml file\n",
    "    os.remove(os.path.join(mff_file, \"subject.xml\"))\n",
    "    # log file\n",
    "    os.remove(glob(os.path.join(mff_file, \"*.txt\"))[0])"
   ]
  },
  {
   "cell_type": "code",
   "execution_count": null,
   "metadata": {},
   "outputs": [],
   "source": [
    "# in behavior files\n",
    "for csv_file in glob(os.path.join(src_path, \"*\", beh_path, \"*.csv\")):\n",
    "    # drop columns containing subject information\n",
    "    df = pd.read_csv(csv_file)\n",
    "    df.drop(columns=[\"姓名\", \"性别\", \"年龄\", \"participant\"], inplace=True, errors=\"ignore\")\n",
    "    # re-write as tsv\n",
    "    df.to_csv(csv_file, index=False, encoding=\"utf-8-sig\")"
   ]
  },
  {
   "cell_type": "markdown",
   "metadata": {},
   "source": [
    "# 2 Convert .mff to .set"
   ]
  },
  {
   "cell_type": "code",
   "execution_count": null,
   "metadata": {},
   "outputs": [],
   "source": [
    "# convert all mff to set\n",
    "# make sure matlab have been added to the PATH environment variables\n",
    "assert os.system(\"matlab -batch mff2set\") == 0,\\\n",
    "    \"Conversion from mff to set failed, please re-run and check the mff2set.m file manually!\""
   ]
  },
  {
   "cell_type": "markdown",
   "metadata": {},
   "source": [
    "# 3 Get BIDS data\n",
    "\n",
    "## 3-1 Write basic files"
   ]
  },
  {
   "cell_type": "code",
   "execution_count": null,
   "metadata": {},
   "outputs": [],
   "source": [
    "if os.path.exists(bids_root_path):\n",
    "    shutil.rmtree(bids_root_path)\n",
    "else:\n",
    "    os.makedirs(bids_root_path)"
   ]
  },
  {
   "cell_type": "code",
   "execution_count": null,
   "metadata": {},
   "outputs": [],
   "source": [
    "for sub_path in tqdm(os.listdir(set_path)):\n",
    "    subject_id = sub_path.split(\"-\")[1]\n",
    "    for task in [resting, foodtask, wordtask, imagetask]:\n",
    "        bids_path = BIDSPath(subject=subject_id, task=task, root=bids_root_path)\n",
    "        # load set file\n",
    "        set_file = os.path.join(set_path, sub_path, eeg_path, f\"sub-{subject_id}_task-{task}_eeg.set\")\n",
    "        mff_file = os.path.join(src_path, sub_path, eeg_path, f\"sub-{subject_id}_task-{task}_eeg.mff\")\n",
    "        raw = mne.io.read_raw_eeglab(set_file)\n",
    "        mff_raw = mne.io.read_raw_egi(mff_file)\n",
    "        # reset information\n",
    "        raw.set_montage(mff_raw.get_montage())\n",
    "        raw.set_meas_date(mff_raw.info[\"meas_date\"])\n",
    "        raw.info[\"line_freq\"] = 50\n",
    "        # write to bids\n",
    "        write_raw_bids(raw, bids_path, overwrite=True)\n",
    "        # copy .set files to bids, see this issue https://github.com/mne-tools/mne-bids/issues/991\n",
    "        shutil.copyfile(set_file, bids_path)"
   ]
  },
  {
   "cell_type": "markdown",
   "metadata": {},
   "source": [
    "## 3-2 Update *_eeg.json"
   ]
  },
  {
   "cell_type": "code",
   "execution_count": null,
   "metadata": {},
   "outputs": [],
   "source": [
    "# update *_eeg.json\n",
    "eeg_entries = {\n",
    "    \"EEGReference\": \"E129 (Cz)\",\n",
    "    \"Manufacturer\": \"Electrical Geodesic Incorporated\",\n",
    "    \"ManufacturersModelName\": \"NetAmps 400\",\n",
    "    \"RecordingType\": \"discontinuous\",\n",
    "    \"InstitutionName\": \"University of Macau\",\n",
    "    \"InstitutionAddress\": \"Macau, China\"\n",
    "}\n",
    "\n",
    "bids_path = BIDSPath(datatype=\"eeg\", suffix=\"eeg\", root=bids_root_path)\n",
    "for eeg_file in bids_path.copy().match():\n",
    "    eeg_json_path = eeg_file.update(extension=\".json\")\n",
    "    update_sidecar_json(bids_path=eeg_json_path, entries=eeg_entries)"
   ]
  },
  {
   "cell_type": "markdown",
   "metadata": {},
   "source": [
    "## 3-3 Modify *_events.tsv; Add *_events.json"
   ]
  },
  {
   "cell_type": "code",
   "execution_count": null,
   "metadata": {},
   "outputs": [],
   "source": [
    "# modify events.tsv\n",
    "for events_tsv in glob(os.path.join(bids_root_path, \"sub-*\", \"eeg\", \"*events.tsv\")):\n",
    "    df = pd.read_csv(events_tsv, sep=\"\\t\")\n",
    "    # drop columns\n",
    "    df.drop(columns=[\"value\", \"sample\"], inplace=True, errors=\"ignore\")\n",
    "    # rewrite duration\n",
    "    df[\"duration\"] = df[[\"duration\", \"trial_type\"]].apply(lambda x: 0 if x[\"trial_type\"] != \"boundary\" else x[\"duration\"], axis=1)\n",
    "    # write back\n",
    "    df.to_csv(events_tsv, index=False, encoding=\"utf-8-sig\")"
   ]
  },
  {
   "cell_type": "code",
   "execution_count": null,
   "metadata": {},
   "outputs": [],
   "source": [
    "event_entries = {\n",
    "    \"onset\": {\n",
    "        \"Description\": \"Onset (in seconds) of the event marker\",\n",
    "        \"Units\": \"second\"\n",
    "    },\n",
    "    \"duration\": {\n",
    "        \"Description\": \"Duration of the marker (do not mixed with duration of events). May not accurate in the .set file\",\n",
    "        \"Units\": \"second\"\n",
    "    },\n",
    "    \"trial_type\": {\n",
    "        \"Description\": \"Event related to the marker\"\n",
    "    }\n",
    "}\n",
    "# resting\n",
    "r_event_entries = event_entries.copy()\n",
    "r_event_entries[\"trial_type\"][\"Level\"] = {\n",
    "    \"rsfi\": \"Start of fixation\",\n",
    "    \"rsrs\": \"Start of blank screen\"\n",
    "}\n",
    "# add items for task-based eeg\n",
    "event_entries[\"trial_type\"][\"Level\"] = {\n",
    "    \"IEND\": \"Recording start or end\",\n",
    "    \"0000-0319\": \"Start of each trial's fixation\"\n",
    "}\n",
    "# food choice\n",
    "f_event_entries = event_entries.copy()\n",
    "f_event_entries[\"trial_type\"][\"Level\"].update({\n",
    "    \"0400\": \"Stimulus marker, presentation start with the food picture\",\n",
    "    \"0500\": \"Response marker, participant select the left option\"\n",
    "})\n",
    "# word choice\n",
    "w_event_entries = event_entries.copy()\n",
    "w_event_entries[\"trial_type\"][\"Level\"].update({\n",
    "    \"0400\": \"Stimulus marker. Presentation start of animate word and the animate option appears on the left side\",\n",
    "    \"0401\": \"Stimulus marker. Presentation start of animate word and the animate option appears on the right side\",\n",
    "    \"0402\": \"Stimulus marker. Presentation start of inanimate word and the animate option appears on the left side\",\n",
    "    \"0403\": \"Stimulus marker. Presentation start of inanimate word and the animate option appears on the right side\",\n",
    "    \"0500\": \"Response marker. Participant select left option when showing animate word and the animate option appears on the left side\",\n",
    "    \"0501\": \"Response marker. Participant select right option when showing animate word and the animate option appears on the left side\",\n",
    "    \"0502\": \"Response marker. Participant select left option when showing animate word and the animate option appears on the right side\",\n",
    "    \"0503\": \"Response marker. Participant select right option when showing animate word and the animate option appears on the right side\",\n",
    "    \"0504\": \"Response marker. Participant select left option when showing inanimate word and the animate option appears on the left side\",\n",
    "    \"0505\": \"Response marker. Participant select right option when showing inanimate word and the animate option appears on the left side\",\n",
    "    \"0506\": \"Response marker. Participant select left option when showing inanimate word and the animate option appears on the right side\",\n",
    "    \"0507\": \"Response marker. Participant select right option when showing inanimate word and the animate option appears on the right side\",\n",
    "})\n",
    "# image choice\n",
    "i_event_entries = event_entries.copy()\n",
    "i_event_entries[\"trial_type\"][\"Level\"].update({\n",
    "    \"0400\": \"Stimulus marker. Presentation start of animate image and the animate option appears on the left side\",\n",
    "    \"0401\": \"Stimulus marker. Presentation start of animate image and the animate option appears on the right side\",\n",
    "    \"0402\": \"Stimulus marker. Presentation start of inanimate image and the animate option appears on the left side\",\n",
    "    \"0403\": \"Stimulus marker. Presentation start of inanimate image and the animate option appears on the right side\",\n",
    "    \"0500\": \"Response marker. Participant select left option when showing animate image and the animate option appears on the left side\",\n",
    "    \"0501\": \"Response marker. Participant select right option when showing animate image and the animate option appears on the left side\",\n",
    "    \"0502\": \"Response marker. Participant select left option when showing animate image and the animate option appears on the right side\",\n",
    "    \"0503\": \"Response marker. Participant select right option when showing animate image and the animate option appears on the right side\",\n",
    "    \"0504\": \"Response marker. Participant select left option when showing inanimate image and the animate option appears on the left side\",\n",
    "    \"0505\": \"Response marker. Participant select right option when showing inanimate image and the animate option appears on the left side\",\n",
    "    \"0506\": \"Response marker. Participant select left option when showing inanimate image and the animate option appears on the right side\",\n",
    "    \"0507\": \"Response marker. Participant select right option when showing inanimate image and the animate option appears on the right side\",\n",
    "})"
   ]
  },
  {
   "cell_type": "code",
   "execution_count": null,
   "metadata": {},
   "outputs": [],
   "source": [
    "for task, entry in zip([resting, foodtask, wordtask, imagetask], [r_event_entries, f_event_entries, w_event_entries, i_event_entries]):\n",
    "    bids_path = BIDSPath(suffix=\"events\", task=task, root=bids_root_path)\n",
    "    for event_file in bids_path.copy().match():\n",
    "        event_json_path = event_file.update(extension=\".json\")\n",
    "        with open(event_json_path, \"w\") as f:\n",
    "            json.dump(entry, f, indent=4)"
   ]
  },
  {
   "cell_type": "markdown",
   "metadata": {},
   "source": [
    "## 3-4 Add behavior tsv file"
   ]
  },
  {
   "cell_type": "code",
   "execution_count": null,
   "metadata": {},
   "outputs": [],
   "source": [
    "def getBehTsv(file_in, file_out, task):\n",
    "    def fc_task(sdf):\n",
    "        sdf[\"trialIndex\"] = sdf[\"images.thisN\"].apply(int)\n",
    "        sdf[\"left_option\"], sdf[\"right_option\"] = sdf[\"left_image\"], sdf[\"right_image\"]\n",
    "        sdf[\"response\"] = sdf[\"mouse.clicked_name\"].map({\"image_left\": \"left\", \"image_right\": \"right\"})\n",
    "        return sdf[[\"trialIndex\", \"left_option\", \"right_option\", \"response\",\n",
    "                \"response_time\", \"xTrajectory\", \"yTrajectory\", \"tTrajectory\"]]\n",
    "    def wc_task(sdf):\n",
    "        sdf[\"trialIndex\"] = sdf[\"words.thisN\"].apply(int)\n",
    "        # stimuli\n",
    "        for option in [\"option_left\", \"option_right\"]:\n",
    "            sdf[option] = sdf[option].map({\"有生命\": \"animate\", \"无生命\": \"inanimate\"})\n",
    "        sdf[\"stimulus\"] = sdf[\"item\"]\n",
    "        # options\n",
    "        sdf[\"left_option\"], sdf[\"right_option\"] = sdf[\"option_left\"], sdf[\"option_right\"]\n",
    "        sdf[\"response\"] = sdf[\"mouse.clicked_name\"].map({\"rect_left\": \"left\", \"rect_right\": \"right\"})\n",
    "        \n",
    "        return sdf[[\"trialIndex\", \"stimulus\", \"isAnimate\", \"left_option\", \"right_option\", \"response\",\n",
    "                \"response_time\", \"xTrajectory\", \"yTrajectory\", \"tTrajectory\"]]\n",
    "    def ic_task(sdf):\n",
    "        sdf[\"trialIndex\"] = sdf[\"images.thisN\"].apply(int)\n",
    "        # rename option\n",
    "        for option in [\"option_left\", \"option_right\"]:\n",
    "            sdf[option] = sdf[option].map({\"有生命\": \"animate\", \"无生命\": \"inanimate\"})\n",
    "        sdf[\"stimulus\"] = sdf[\"item\"].apply(lambda x: x.replace(\"non-\", \"in\"))\n",
    "        # options\n",
    "        sdf[\"left_option\"], sdf[\"right_option\"] = sdf[\"option_left\"], sdf[\"option_right\"]\n",
    "        sdf[\"response\"] = sdf[\"mouse.clicked_name\"].map({\"rect_left\": \"left\", \"rect_right\": \"right\"})\n",
    "        return sdf[[\"trialIndex\", \"stimulus\", \"left_option\", \"right_option\", \"response\",\n",
    "                \"response_time\", \"xTrajectory\", \"yTrajectory\", \"tTrajectory\"]]\n",
    "\n",
    "    # used to extract rt\n",
    "    stim_rec = {\n",
    "        foodtask: [\"image_right.started\", \"image_right_2.started\"],\n",
    "        wordtask: [\"word_item.started\", \"word_item_2.started\"],\n",
    "        imagetask: [\"image_item.started\", \"image_item_2.started\"]\n",
    "    }\n",
    "    # used to get func\n",
    "    task_prep = {\n",
    "        foodtask: fc_task,\n",
    "        wordtask: wc_task,\n",
    "        imagetask: ic_task\n",
    "    }\n",
    "    # get data\n",
    "    df = pd.read_csv(file_in)[1:321]\n",
    "    df[\"response_time\"] = df[stim_rec[task]].apply(lambda x: np.round((x[stim_rec[task][1]] - x[stim_rec[task][0]]), 3), axis=1)\n",
    "\n",
    "    # little preprocess\n",
    "    df = task_prep[task](df)\n",
    "    # write to bids\n",
    "    df.to_csv(file_out, index=False, sep=\"\\t\", encoding=\"utf-8\")"
   ]
  },
  {
   "cell_type": "code",
   "execution_count": null,
   "metadata": {},
   "outputs": [],
   "source": [
    "for sub in os.listdir(set_path):\n",
    "    os.makedirs(os.path.join(bids_root_path, sub, beh_path))\n",
    "    for task in [foodtask, wordtask, imagetask]:\n",
    "        file_in = os.path.join(src_path, sub, beh_path, \"{}_task-{}_beh.csv\".format(sub, task))\n",
    "        file_out = os.path.join(bids_root_path, sub, beh_path, \"{}_task-{}_beh.tsv\".format(sub, task))\n",
    "        getBehTsv(file_in, file_out, task)"
   ]
  },
  {
   "cell_type": "markdown",
   "metadata": {},
   "source": [
    "## 3-5 Add *_beh.json"
   ]
  },
  {
   "cell_type": "code",
   "execution_count": null,
   "metadata": {},
   "outputs": [],
   "source": [
    "entries = {\n",
    "    \"trialIndex\": {\n",
    "        \"Description\": \"Index of the current trial, used to align with EEG data when some EEG trigger lost.\"\n",
    "    },\n",
    "    \"left_option\": {\n",
    "        \"Description\": \"Clickable option on the left side on the screen.\"\n",
    "    },\n",
    "    \"right_option\": {\n",
    "        \"Description\": \"Clickable option on the right side on the screen.\"\n",
    "    },\n",
    "    \"response\": {\n",
    "        \"Description\": \"The side which the participant choose.\",\n",
    "        \"Level\": {\n",
    "            \"left\": \"The participant choose the left_optioin.\",\n",
    "            \"right\": \"The participant choose the right_optioin.\"\n",
    "        }\n",
    "    },\n",
    "    \"response_time\": {\n",
    "        \"Description\": \"Response time measured in seconds.\",\n",
    "        \"Units\": \"second\"\n",
    "    },\n",
    "    \"xTrajectory\": {\n",
    "        \"Description\": \"The x coordinate of the mouse trajectory over time.\",\n",
    "        \"Units\": \"pixel\"\n",
    "    },\n",
    "    \"yTrajectory\": {\n",
    "        \"Description\": \"The y coordinate of the mouse trajectory over time.\",\n",
    "        \"Units\": \"pixel\"\n",
    "    },\n",
    "    \"tTrajectory\": {\n",
    "        \"Description\": \"The time point which corrresdponds to the (x, y) coordinate series.\",\n",
    "        \"Units\": \"second\"\n",
    "    }\n",
    "}\n",
    "# food choice\n",
    "f_entries = entries.copy()\n",
    "# word choice\n",
    "w_entries = entries.copy()\n",
    "w_entries[\"stimulus\"] = {\"Description\": \"Name of the word stimulus.\" }\n",
    "w_entries[\"isAnimate\"] = { \"Description\": \"Whether the stimulus is animate.\" }\n",
    "# image choice\n",
    "i_entries = entries.copy()\n",
    "i_entries[\"stimulus\"] = { \"Description\": \"File name of the image stimulus.\" }"
   ]
  },
  {
   "cell_type": "code",
   "execution_count": null,
   "metadata": {},
   "outputs": [],
   "source": [
    "for task, entry in zip([foodtask, wordtask, imagetask], [f_entries, w_entries, i_entries]):\n",
    "    bids_path = BIDSPath(datatype=\"beh\", suffix=\"beh\", task=task, root=bids_root_path)\n",
    "    for beh_file in bids_path.copy().match():\n",
    "        beh_json_path = beh_file.update(extension=\".json\")\n",
    "        with open(beh_json_path, \"w\") as f:\n",
    "            json.dump(entry, f, indent=4)"
   ]
  },
  {
   "cell_type": "markdown",
   "metadata": {},
   "source": [
    "## 3-6 Add sourcedata"
   ]
  },
  {
   "cell_type": "code",
   "execution_count": null,
   "metadata": {},
   "outputs": [],
   "source": [
    "sourcedata_path = os.path.join(bids_root_path, \"sourcedata\")\n",
    "# source rawdata\n",
    "source_raw_path = os.path.join(sourcedata_path, \"rawdata\")\n",
    "shutil.copytree(src_path, source_raw_path)\n",
    "# psychopy experimental program\n",
    "source_psychopy_path = os.path.join(sourcedata_path, \"psychopy\")\n",
    "shutil.copytree(os.path.join(root_path, \"psychopy\"), source_psychopy_path)"
   ]
  },
  {
   "cell_type": "markdown",
   "metadata": {},
   "source": [
    "## 3-6 Update dataset_description"
   ]
  },
  {
   "cell_type": "code",
   "execution_count": null,
   "metadata": {},
   "outputs": [],
   "source": [
    "dataset_entries = {\n",
    "    \"Name\": \"HD-EEG task with mouse tracking\",\n",
    "    \"BIDSVersion\": \"1.7.0\",\n",
    "    \"DatasetType\": \"raw\",\n",
    "    \"Authors\": [\n",
    "        \"Kun Chen\",\n",
    "        \"Ruien Wang\",\n",
    "        \"Jiamin Huang\",\n",
    "        \"Fei Gao\",\n",
    "        \"Zhen Yuan\",\n",
    "        \"Yanyan Qi\",\n",
    "        \"Haiyan Wu\"\n",
    "    ],\n",
    "    \"KeyWords\": [\n",
    "        \"Electroencephalography\",\n",
    "        \"Decision making\",\n",
    "        \"Mouse-racking\",\n",
    "        \"Resting state\"\n",
    "    ],\n",
    "    \"DatasetDOI\": \"doi:10.18112/openneuro.ds003766.v1.0.0\",\n",
    "    \"SourceDatasets\": [ {\"URL\": \"file://./sourcedata/rawdata\"} ]\n",
    "}\n",
    "with open(os.path.join(bids_root_path, \"dataset_description.json\"), \"w\") as f:\n",
    "    json.dump(dataset_entries, f, indent=4)"
   ]
  },
  {
   "cell_type": "code",
   "execution_count": null,
   "metadata": {},
   "outputs": [],
   "source": [
    "# replace participants file\n",
    "shutil.copyfile(os.path.join(root_path, \"participants.tsv\"), os.path.join(bids_root_path, \"participants.tsv\"))"
   ]
  }
 ],
 "metadata": {
  "interpreter": {
   "hash": "52ebc9b852cbba287a04e33bfd2a062dc1337ed1d55768405efe5997548ba37a"
  },
  "kernelspec": {
   "display_name": "Python 3.9.1 64-bit ('base': conda)",
   "name": "python3"
  },
  "language_info": {
   "codemirror_mode": {
    "name": "ipython",
    "version": 3
   },
   "file_extension": ".py",
   "mimetype": "text/x-python",
   "name": "python",
   "nbconvert_exporter": "python",
   "pygments_lexer": "ipython3",
   "version": "3.9.12"
  },
  "orig_nbformat": 2
 },
 "nbformat": 4,
 "nbformat_minor": 2
}
