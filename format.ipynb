{
 "metadata": {
  "language_info": {
   "codemirror_mode": {
    "name": "ipython",
    "version": 3
   },
   "file_extension": ".py",
   "mimetype": "text/x-python",
   "name": "python",
   "nbconvert_exporter": "python",
   "pygments_lexer": "ipython3",
   "version": "3.8.3-final"
  },
  "orig_nbformat": 2,
  "kernelspec": {
   "name": "python3",
   "display_name": "Python 3.8.3 64-bit (conda)",
   "metadata": {
    "interpreter": {
     "hash": "38ef801049279a193b5886f069dab2a750b018e1af93efb22ea8210fc2c9a190"
    }
   }
  }
 },
 "nbformat": 4,
 "nbformat_minor": 2,
 "cells": [
  {
   "cell_type": "code",
   "execution_count": 1,
   "metadata": {},
   "outputs": [],
   "source": [
    "import os\n",
    "import copy\n",
    "import shutil\n",
    "import pandas as pd"
   ]
  },
  {
   "cell_type": "code",
   "execution_count": 2,
   "metadata": {},
   "outputs": [],
   "source": [
    "data_path = \"F:\\\\chenkun\\\\EGI_formatted\"\n",
    "beh_path = \"events\"\n",
    "rec_path = \"rec\"\n",
    "eeg_path = \"eeg\""
   ]
  },
  {
   "source": [
    "## delete screen recording"
   ],
   "cell_type": "markdown",
   "metadata": {}
  },
  {
   "cell_type": "code",
   "execution_count": 4,
   "metadata": {},
   "outputs": [],
   "source": [
    "for name in os.listdir(data_path):\n",
    "    for direc in os.listdir(os.path.join(data_path, name)):\n",
    "        if os.path.exists(os.path.join(data_path, name, \"Screencapture\")):\n",
    "            shutil.rmtree(os.path.join(data_path, name, \"Screencapture\"))"
   ]
  },
  {
   "source": [
    "## rename \"EEG DATA\" \"Screencapture\" \"Behavioral Data\""
   ],
   "cell_type": "markdown",
   "metadata": {}
  },
  {
   "cell_type": "code",
   "execution_count": 5,
   "metadata": {},
   "outputs": [
    {
     "output_type": "stream",
     "name": "stdout",
     "text": [
      "F:\\chenkun\\EGI_formatted\\sub-001\\Behavioral Data\nF:\\chenkun\\EGI_formatted\\sub-001\\EEG DATA\nF:\\chenkun\\EGI_formatted\\sub-002\\Behavioral Data\nF:\\chenkun\\EGI_formatted\\sub-002\\EEG DATA\nF:\\chenkun\\EGI_formatted\\sub-003\\Behavioral Data\nF:\\chenkun\\EGI_formatted\\sub-003\\EEG DATA\nF:\\chenkun\\EGI_formatted\\sub-004\\Behavioral Data\nF:\\chenkun\\EGI_formatted\\sub-004\\EEG DATA\nF:\\chenkun\\EGI_formatted\\sub-005\\Behavioral Data\nF:\\chenkun\\EGI_formatted\\sub-005\\EEG DATA\nF:\\chenkun\\EGI_formatted\\sub-006\\Behavioral Data\nF:\\chenkun\\EGI_formatted\\sub-006\\EEG DATA\nF:\\chenkun\\EGI_formatted\\sub-007\\Behavioral Data\nF:\\chenkun\\EGI_formatted\\sub-007\\EEG DATA\nF:\\chenkun\\EGI_formatted\\sub-008\\Behavioral Data\nF:\\chenkun\\EGI_formatted\\sub-008\\EEG DATA\nF:\\chenkun\\EGI_formatted\\sub-009\\Behavioral Data\nF:\\chenkun\\EGI_formatted\\sub-009\\EEG DATA\nF:\\chenkun\\EGI_formatted\\sub-010\\Behavioral Data\nF:\\chenkun\\EGI_formatted\\sub-010\\EEG DATA\nF:\\chenkun\\EGI_formatted\\sub-011\\Behavioral Data\nF:\\chenkun\\EGI_formatted\\sub-011\\EEG DATA\nF:\\chenkun\\EGI_formatted\\sub-012\\Behavioral Data\nF:\\chenkun\\EGI_formatted\\sub-012\\EEG DATA\nF:\\chenkun\\EGI_formatted\\sub-013\\Behavioral Data\nF:\\chenkun\\EGI_formatted\\sub-013\\EEG DATA\nF:\\chenkun\\EGI_formatted\\sub-014\\Behavioral Data\nF:\\chenkun\\EGI_formatted\\sub-014\\EEG DATA\nF:\\chenkun\\EGI_formatted\\sub-015\\Behavioral Data\nF:\\chenkun\\EGI_formatted\\sub-015\\EEG DATA\nF:\\chenkun\\EGI_formatted\\sub-016\\Beha_sub_16\nF:\\chenkun\\EGI_formatted\\sub-016\\EEG_DATA\nF:\\chenkun\\EGI_formatted\\sub-017\\Beha_sub_17\nF:\\chenkun\\EGI_formatted\\sub-017\\EEG_DATA\nF:\\chenkun\\EGI_formatted\\sub-018\\Beha_sub_18\nF:\\chenkun\\EGI_formatted\\sub-018\\EEG_DATA\nF:\\chenkun\\EGI_formatted\\sub-019\\Beha_sub_19\nF:\\chenkun\\EGI_formatted\\sub-019\\EEG_DATA\nF:\\chenkun\\EGI_formatted\\sub-020\\Beha_sub_20\nF:\\chenkun\\EGI_formatted\\sub-020\\EEG_DATA\nF:\\chenkun\\EGI_formatted\\sub-021\\Beha_sub_21\nF:\\chenkun\\EGI_formatted\\sub-021\\EEG_DATA\nF:\\chenkun\\EGI_formatted\\sub-022\\Beha_sub_22\nF:\\chenkun\\EGI_formatted\\sub-022\\EEG_DATA\nF:\\chenkun\\EGI_formatted\\sub-023\\Beha_sub_23\nF:\\chenkun\\EGI_formatted\\sub-023\\EEG_DATA\nF:\\chenkun\\EGI_formatted\\sub-024\\Beha_sub_24\nF:\\chenkun\\EGI_formatted\\sub-024\\EEG_DATA\nF:\\chenkun\\EGI_formatted\\sub-025\\Beha_sub_25\nF:\\chenkun\\EGI_formatted\\sub-025\\EEG_DATA\nF:\\chenkun\\EGI_formatted\\sub-026\\Beha_sub_26\nF:\\chenkun\\EGI_formatted\\sub-026\\EEG_DATA\nF:\\chenkun\\EGI_formatted\\sub-027\\Beha_sub_27\nF:\\chenkun\\EGI_formatted\\sub-027\\EEG_DATA\nF:\\chenkun\\EGI_formatted\\sub-028\\Beha_sub_28\nF:\\chenkun\\EGI_formatted\\sub-028\\EEG_DATA\nF:\\chenkun\\EGI_formatted\\sub-029\\Beha_sub_29\nF:\\chenkun\\EGI_formatted\\sub-029\\EEG_DATA\nF:\\chenkun\\EGI_formatted\\sub-030\\Beha_sub_30\nF:\\chenkun\\EGI_formatted\\sub-030\\EEG_DATA\nF:\\chenkun\\EGI_formatted\\sub-031\\Beha_sub-31\nF:\\chenkun\\EGI_formatted\\sub-031\\EEG_DATA\n"
     ]
    }
   ],
   "source": [
    "## rename directory name under \"sub-xxx\"\n",
    "for name in os.listdir(data_path):\n",
    "    # under \"sub-xxx\" directory\n",
    "    for directory in os.listdir(os.path.join(data_path, name)):\n",
    "        # eeg data\n",
    "        if \"EEG DATA\" in directory or \"EEG_DATA\" in directory:\n",
    "            # print(os.path.join(data_path, name, directory))\n",
    "            os.rename(os.path.join(data_path, name, directory), os.path.join(data_path, name, eeg_path))\n",
    "        # behavioral data\n",
    "        elif \"Beha\" in directory:\n",
    "            # print(os.path.join(data_path, name, directory))\n",
    "            os.rename(os.path.join(data_path, name, directory), os.path.join(data_path, name, beh_path))"
   ]
  },
  {
   "source": [
    "## behavioral data"
   ],
   "cell_type": "markdown",
   "metadata": {}
  },
  {
   "cell_type": "code",
   "execution_count": 9,
   "metadata": {},
   "outputs": [],
   "source": [
    "## for \"beh\" dir\n",
    "task_set = set([\"foodEnd\", \"foodChoice\", \"foodHealthy\", \"imageChoice\", \"wordChoice\", \"wordImageMatch\", \"foodTaste\"])\n",
    "for name in os.listdir(data_path):\n",
    "    # under \"sub-xxx\" directory\n",
    "    # count = 0\n",
    "    # total = 0\n",
    "    for csv in os.listdir(os.path.join(data_path, name, beh_path)):\n",
    "        # under \"sub-xxx/beh\" directory\n",
    "        # total += 1\n",
    "        cross = set(csv.split(\"_\")) & task_set\n",
    "        if csv not in task_set and len(cross) != 0:\n",
    "            # count += 1\n",
    "            # print(os.path.join(data_path, name, beh_path, csv))\n",
    "            os.rename(os.path.join(data_path, name, beh_path, csv), os.path.join(data_path, name, beh_path, \"{}_task-{}_events.csv\".format(name, list(cross)[0]).lower()))\n",
    "    # print(\"{}: {}/{}\".format(os.path.join(data_path, name, beh_path), count, total))"
   ]
  },
  {
   "source": [
    "## eeg data"
   ],
   "cell_type": "markdown",
   "metadata": {}
  },
  {
   "cell_type": "code",
   "execution_count": 10,
   "metadata": {},
   "outputs": [
    {
     "output_type": "error",
     "ename": "NotADirectoryError",
     "evalue": "[WinError 267] The directory name is invalid: 'F:\\\\chenkun\\\\EGI_formatted\\\\sub-016\\\\eeg\\\\GCS 1119 FC_20201119_035120_fil.edf'",
     "traceback": [
      "\u001b[1;31m---------------------------------------------------------------------------\u001b[0m",
      "\u001b[1;31mNotADirectoryError\u001b[0m                        Traceback (most recent call last)",
      "\u001b[1;32m<ipython-input-10-bd1a22b572e4>\u001b[0m in \u001b[0;36m<module>\u001b[1;34m\u001b[0m\n\u001b[0;32m     18\u001b[0m         \u001b[1;32mfor\u001b[0m \u001b[0mmff\u001b[0m \u001b[1;32min\u001b[0m \u001b[0mos\u001b[0m\u001b[1;33m.\u001b[0m\u001b[0mlistdir\u001b[0m\u001b[1;33m(\u001b[0m\u001b[0mos\u001b[0m\u001b[1;33m.\u001b[0m\u001b[0mpath\u001b[0m\u001b[1;33m.\u001b[0m\u001b[0mjoin\u001b[0m\u001b[1;33m(\u001b[0m\u001b[0mdata_path\u001b[0m\u001b[1;33m,\u001b[0m \u001b[0mname\u001b[0m\u001b[1;33m,\u001b[0m \u001b[0meeg_path\u001b[0m\u001b[1;33m)\u001b[0m\u001b[1;33m)\u001b[0m\u001b[1;33m:\u001b[0m\u001b[1;33m\u001b[0m\u001b[1;33m\u001b[0m\u001b[0m\n\u001b[0;32m     19\u001b[0m             \u001b[1;32mif\u001b[0m \u001b[1;34m\"fil\"\u001b[0m \u001b[1;32min\u001b[0m \u001b[0mmff\u001b[0m\u001b[1;33m:\u001b[0m\u001b[1;33m\u001b[0m\u001b[1;33m\u001b[0m\u001b[0m\n\u001b[1;32m---> 20\u001b[1;33m                 \u001b[0mshutil\u001b[0m\u001b[1;33m.\u001b[0m\u001b[0mrmtree\u001b[0m\u001b[1;33m(\u001b[0m\u001b[0mos\u001b[0m\u001b[1;33m.\u001b[0m\u001b[0mpath\u001b[0m\u001b[1;33m.\u001b[0m\u001b[0mjoin\u001b[0m\u001b[1;33m(\u001b[0m\u001b[0mdata_path\u001b[0m\u001b[1;33m,\u001b[0m \u001b[0mname\u001b[0m\u001b[1;33m,\u001b[0m \u001b[0meeg_path\u001b[0m\u001b[1;33m,\u001b[0m \u001b[0mmff\u001b[0m\u001b[1;33m)\u001b[0m\u001b[1;33m)\u001b[0m\u001b[1;33m\u001b[0m\u001b[1;33m\u001b[0m\u001b[0m\n\u001b[0m\u001b[0;32m     21\u001b[0m             \u001b[1;32melse\u001b[0m\u001b[1;33m:\u001b[0m\u001b[1;33m\u001b[0m\u001b[1;33m\u001b[0m\u001b[0m\n\u001b[0;32m     22\u001b[0m                 \u001b[1;32mfor\u001b[0m \u001b[0mkey\u001b[0m\u001b[1;33m,\u001b[0m \u001b[0mvalue\u001b[0m \u001b[1;32min\u001b[0m \u001b[0mtask_dict\u001b[0m\u001b[1;33m.\u001b[0m\u001b[0mitems\u001b[0m\u001b[1;33m(\u001b[0m\u001b[1;33m)\u001b[0m\u001b[1;33m:\u001b[0m\u001b[1;33m\u001b[0m\u001b[1;33m\u001b[0m\u001b[0m\n",
      "\u001b[1;32m~\\Miniconda3\\lib\\shutil.py\u001b[0m in \u001b[0;36mrmtree\u001b[1;34m(path, ignore_errors, onerror)\u001b[0m\n\u001b[0;32m    735\u001b[0m             \u001b[1;31m# can't continue even if onerror hook returns\u001b[0m\u001b[1;33m\u001b[0m\u001b[1;33m\u001b[0m\u001b[1;33m\u001b[0m\u001b[0m\n\u001b[0;32m    736\u001b[0m             \u001b[1;32mreturn\u001b[0m\u001b[1;33m\u001b[0m\u001b[1;33m\u001b[0m\u001b[0m\n\u001b[1;32m--> 737\u001b[1;33m         \u001b[1;32mreturn\u001b[0m \u001b[0m_rmtree_unsafe\u001b[0m\u001b[1;33m(\u001b[0m\u001b[0mpath\u001b[0m\u001b[1;33m,\u001b[0m \u001b[0monerror\u001b[0m\u001b[1;33m)\u001b[0m\u001b[1;33m\u001b[0m\u001b[1;33m\u001b[0m\u001b[0m\n\u001b[0m\u001b[0;32m    738\u001b[0m \u001b[1;33m\u001b[0m\u001b[0m\n\u001b[0;32m    739\u001b[0m \u001b[1;31m# Allow introspection of whether or not the hardening against symlink\u001b[0m\u001b[1;33m\u001b[0m\u001b[1;33m\u001b[0m\u001b[1;33m\u001b[0m\u001b[0m\n",
      "\u001b[1;32m~\\Miniconda3\\lib\\shutil.py\u001b[0m in \u001b[0;36m_rmtree_unsafe\u001b[1;34m(path, onerror)\u001b[0m\n\u001b[0;32m    594\u001b[0m             \u001b[0mentries\u001b[0m \u001b[1;33m=\u001b[0m \u001b[0mlist\u001b[0m\u001b[1;33m(\u001b[0m\u001b[0mscandir_it\u001b[0m\u001b[1;33m)\u001b[0m\u001b[1;33m\u001b[0m\u001b[1;33m\u001b[0m\u001b[0m\n\u001b[0;32m    595\u001b[0m     \u001b[1;32mexcept\u001b[0m \u001b[0mOSError\u001b[0m\u001b[1;33m:\u001b[0m\u001b[1;33m\u001b[0m\u001b[1;33m\u001b[0m\u001b[0m\n\u001b[1;32m--> 596\u001b[1;33m         \u001b[0monerror\u001b[0m\u001b[1;33m(\u001b[0m\u001b[0mos\u001b[0m\u001b[1;33m.\u001b[0m\u001b[0mscandir\u001b[0m\u001b[1;33m,\u001b[0m \u001b[0mpath\u001b[0m\u001b[1;33m,\u001b[0m \u001b[0msys\u001b[0m\u001b[1;33m.\u001b[0m\u001b[0mexc_info\u001b[0m\u001b[1;33m(\u001b[0m\u001b[1;33m)\u001b[0m\u001b[1;33m)\u001b[0m\u001b[1;33m\u001b[0m\u001b[1;33m\u001b[0m\u001b[0m\n\u001b[0m\u001b[0;32m    597\u001b[0m         \u001b[0mentries\u001b[0m \u001b[1;33m=\u001b[0m \u001b[1;33m[\u001b[0m\u001b[1;33m]\u001b[0m\u001b[1;33m\u001b[0m\u001b[1;33m\u001b[0m\u001b[0m\n\u001b[0;32m    598\u001b[0m     \u001b[1;32mfor\u001b[0m \u001b[0mentry\u001b[0m \u001b[1;32min\u001b[0m \u001b[0mentries\u001b[0m\u001b[1;33m:\u001b[0m\u001b[1;33m\u001b[0m\u001b[1;33m\u001b[0m\u001b[0m\n",
      "\u001b[1;32m~\\Miniconda3\\lib\\shutil.py\u001b[0m in \u001b[0;36m_rmtree_unsafe\u001b[1;34m(path, onerror)\u001b[0m\n\u001b[0;32m    591\u001b[0m \u001b[1;32mdef\u001b[0m \u001b[0m_rmtree_unsafe\u001b[0m\u001b[1;33m(\u001b[0m\u001b[0mpath\u001b[0m\u001b[1;33m,\u001b[0m \u001b[0monerror\u001b[0m\u001b[1;33m)\u001b[0m\u001b[1;33m:\u001b[0m\u001b[1;33m\u001b[0m\u001b[1;33m\u001b[0m\u001b[0m\n\u001b[0;32m    592\u001b[0m     \u001b[1;32mtry\u001b[0m\u001b[1;33m:\u001b[0m\u001b[1;33m\u001b[0m\u001b[1;33m\u001b[0m\u001b[0m\n\u001b[1;32m--> 593\u001b[1;33m         \u001b[1;32mwith\u001b[0m \u001b[0mos\u001b[0m\u001b[1;33m.\u001b[0m\u001b[0mscandir\u001b[0m\u001b[1;33m(\u001b[0m\u001b[0mpath\u001b[0m\u001b[1;33m)\u001b[0m \u001b[1;32mas\u001b[0m \u001b[0mscandir_it\u001b[0m\u001b[1;33m:\u001b[0m\u001b[1;33m\u001b[0m\u001b[1;33m\u001b[0m\u001b[0m\n\u001b[0m\u001b[0;32m    594\u001b[0m             \u001b[0mentries\u001b[0m \u001b[1;33m=\u001b[0m \u001b[0mlist\u001b[0m\u001b[1;33m(\u001b[0m\u001b[0mscandir_it\u001b[0m\u001b[1;33m)\u001b[0m\u001b[1;33m\u001b[0m\u001b[1;33m\u001b[0m\u001b[0m\n\u001b[0;32m    595\u001b[0m     \u001b[1;32mexcept\u001b[0m \u001b[0mOSError\u001b[0m\u001b[1;33m:\u001b[0m\u001b[1;33m\u001b[0m\u001b[1;33m\u001b[0m\u001b[0m\n",
      "\u001b[1;31mNotADirectoryError\u001b[0m: [WinError 267] The directory name is invalid: 'F:\\\\chenkun\\\\EGI_formatted\\\\sub-016\\\\eeg\\\\GCS 1119 FC_20201119_035120_fil.edf'"
     ]
    }
   ],
   "source": [
    "task_dict = {\"-F\": \"foodchoice\", \"FC_\": \"foodchoice\", \"-I\": \"imagechoice\", \"IC_\": \"imagechoice\", \"-W\": \"wordchoice\", \"WC_\": \"wordchoice\", \"-R\": \"rest\", \"RS_\": \"rest\", \"-WM\": \"wordimagematch\", \"WM_\": \"wordimagematch\"}\n",
    "for name in os.listdir(data_path):\n",
    "    # sub-001 to sub-015\n",
    "    if name <= \"sub-015\":\n",
    "        for mff in os.listdir(os.path.join(data_path, name, eeg_path, \"ori_mff\")):\n",
    "            if \"fil\" in mff:\n",
    "                continue\n",
    "            # print(os.path.join(data_path, name, eeg_path, \"ori_mff\", mff))\n",
    "            for key, value in task_dict.items():\n",
    "                if key in mff:\n",
    "                    shutil.move(os.path.join(data_path, name, eeg_path, \"ori_mff\", mff), os.path.join(data_path, name, eeg_path, \"{}_task-{}_eeg.mff\".format(name, value)))\n",
    "                    break\n",
    "        # remove fil files\n",
    "        shutil.rmtree(os.path.join(data_path, name, eeg_path, \"fil_edf\"))\n",
    "        shutil.rmtree(os.path.join(data_path, name, eeg_path, \"ori_mff\"))\n",
    "    # sub-016 to sub-031\n",
    "    else:\n",
    "        for mff in os.listdir(os.path.join(data_path, name, eeg_path)):\n",
    "            # delete filtered edf data\n",
    "            if \".edf\" in mff:\n",
    "                os.remove(os.path.join(data_path, name, eeg_path, mff))\n",
    "            # delete filtered mff data\n",
    "            elif \"fil\" in mff:\n",
    "                shutil.rmtree(os.path.join(data_path, name, eeg_path, mff))\n",
    "            else:\n",
    "                for key, value in task_dict.items():\n",
    "                    if mff.find(key) != -1:\n",
    "                        os.rename(os.path.join(data_path, name, eeg_path, mff), os.path.join(data_path, name, eeg_path, \"{}_task-{}_eeg.mff\".format(name, value)))"
   ]
  },
  {
   "cell_type": "code",
   "execution_count": null,
   "metadata": {},
   "outputs": [],
   "source": []
  }
 ]
}