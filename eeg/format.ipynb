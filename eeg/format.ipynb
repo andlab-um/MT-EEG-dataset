{
 "metadata": {
  "language_info": {
   "codemirror_mode": {
    "name": "ipython",
    "version": 3
   },
   "file_extension": ".py",
   "mimetype": "text/x-python",
   "name": "python",
   "nbconvert_exporter": "python",
   "pygments_lexer": "ipython3",
   "version": "3.8.3-final"
  },
  "orig_nbformat": 2,
  "kernelspec": {
   "name": "python3",
   "display_name": "Python 3",
   "language": "python"
  }
 },
 "nbformat": 4,
 "nbformat_minor": 2,
 "cells": [
  {
   "cell_type": "code",
   "execution_count": null,
   "metadata": {},
   "outputs": [],
   "source": [
    "import os\n",
    "import copy\n",
    "import shutil\n",
    "import pandas as pd"
   ]
  },
  {
   "cell_type": "code",
   "execution_count": null,
   "metadata": {},
   "outputs": [],
   "source": [
    "# set path\n",
    "# first copy original files into fmt_path\n",
    "raw_path = \"D:\\\\EGI_DATA\\\\EGI_RAW\"\n",
    "fmt_path = \"D:\\\\EGI_DATA\\\\EGI_FMT\"\n",
    "edf_path = \"D:\\\\EGI_DATA\\\\EGI_EDF\"\n",
    "bids_root_path = \"D:\\\\EGI_DATA\\\\EGI_BIDS\"\n",
    "beh_path = \"beh\"\n",
    "rec_path = \"rec\"\n",
    "eeg_path = \"eeg\"\n",
    "# set task name\n",
    "wordtask = \"wordchoice\"\n",
    "imagetask = \"imagechoice\"\n",
    "foodtask = \"foodchoice\"\n",
    "wmtask = \"wordimagematch\"\n",
    "rest = \"rest\""
   ]
  },
  {
   "source": [
    "# 1. format raw data"
   ],
   "cell_type": "markdown",
   "metadata": {}
  },
  {
   "source": [
    "## delete screen recording"
   ],
   "cell_type": "markdown",
   "metadata": {}
  },
  {
   "cell_type": "code",
   "execution_count": null,
   "metadata": {},
   "outputs": [],
   "source": [
    "# for sub in os.listdir(fmt_path):\n",
    "#     for direc in os.listdir(os.path.join(fmt_path, sub)):\n",
    "#         if os.path.exists(os.path.join(fmt_path, sub, \"Screencapture\")):\n",
    "#             shutil.rmtree(os.path.join(fmt_path, sub, \"Screencapture\"))"
   ]
  },
  {
   "cell_type": "code",
   "execution_count": null,
   "metadata": {},
   "outputs": [],
   "source": [
    "if os.path.exists(fmt_path):\n",
    "    shutil.rmtree(fmt_path)\n",
    "else:\n",
    "    os.mkdir(fmt_path)\n",
    "task_set = set([\"foodEnd\", \"foodChoice\", \"foodHealthy\", \"imageChoice\", \"wordChoice\", \"wordImageMatch\", \"foodTaste\"])\n",
    "task_dict = {\"F\": \"foodchoice\", \"FC\": \"foodchoice\", \"I\": \"imagechoice\", \"IC\": \"imagechoice\", \"W\": \"wordchoice\", \"WC\": \"wordchoice\", \"R\": \"rest\", \"RS\": \"rest\", \"WM\": \"wordimagematch\", \"WM\": \"wordimagematch\"}\n",
    "total = 0\n",
    "for sub in os.listdir(raw_path):\n",
    "    # under \"sub-xxx\" directory\n",
    "    if not os.path.exists(os.path.join(fmt_path, sub, eeg_path)):\n",
    "        os.makedirs(os.path.join(fmt_path, sub, eeg_path))\n",
    "    if not os.path.exists(os.path.join(fmt_path, sub, beh_path)):\n",
    "        os.makedirs(os.path.join(fmt_path, sub, beh_path))\n",
    "    for directory in os.listdir(os.path.join(raw_path, sub)):\n",
    "        # eeg data\n",
    "        if \"EEG DATA\" in directory or \"EEG_DATA\" in directory:\n",
    "            # sub-001 to sub-015\n",
    "            cur_eeg_path = os.path.join(raw_path, sub, directory)\n",
    "            if sub <= \"sub-015\":\n",
    "                cur_eeg_path = os.path.join(cur_eeg_path, \"ori_mff\")\n",
    "            for mff in os.listdir(cur_eeg_path):\n",
    "                if \"fil.mff\" in mff or \"fil.edf\" in mff:\n",
    "                    continue\n",
    "                for key, value in task_dict.items():\n",
    "                    if key in mff.upper().replace('-', ' ').replace('_', ' ').split():\n",
    "                        print(os.path.join(cur_eeg_path, mff))\n",
    "                        shutil.copytree(os.path.join(cur_eeg_path, mff), os.path.join(fmt_path, sub, eeg_path, \"{}_task-{}_eeg.mff\".format(sub, value)))\n",
    "                        break\n",
    "        # behavioral data\n",
    "        elif \"Beha\" in directory:\n",
    "            for csv in os.listdir(os.path.join(raw_path, sub, directory)):\n",
    "                cross = set(csv.split(\"_\")) & task_set\n",
    "                if len(cross) != 0:\n",
    "                    total += 1\n",
    "                    # print(os.path.join(fmt_path, sub, beh_path, csv))\n",
    "                    shutil.copy(os.path.join(raw_path, sub, directory, csv), os.path.join(fmt_path, sub, beh_path, \"{}_task-{}_beh.csv\".format(sub, list(cross)[0]).lower()))"
   ]
  },
  {
   "source": [
    "## delete behavioral data and wordimagematch eeg data"
   ],
   "cell_type": "markdown",
   "metadata": {}
  },
  {
   "cell_type": "code",
   "execution_count": null,
   "metadata": {},
   "outputs": [],
   "source": [
    "for sub in os.listdir(fmt_path):\n",
    "    shutil.rmtree(os.path.join(fmt_path, sub, beh_path), ignore_errors=True)\n",
    "    shutil.rmtree(os.path.join(fmt_path, sub, eeg_path, \"{}_task-{}_eeg.mff\".format(sub, wmtask)), ignore_errors=True)"
   ]
  },
  {
   "source": [
    "# 2. convert .mff file to .edf file"
   ],
   "cell_type": "markdown",
   "metadata": {}
  },
  {
   "source": [
    "## convert mff to edf"
   ],
   "cell_type": "markdown",
   "metadata": {}
  },
  {
   "cell_type": "code",
   "execution_count": null,
   "metadata": {},
   "outputs": [],
   "source": [
    "from save_edf import write_mne_edf"
   ]
  },
  {
   "cell_type": "code",
   "execution_count": null,
   "metadata": {},
   "outputs": [],
   "source": [
    "if os.path.exists(edf_path):\n",
    "    shutil.rmtree(edf_path)\n",
    "else:\n",
    "    os.mkdir(edf_path)"
   ]
  },
  {
   "cell_type": "code",
   "execution_count": null,
   "metadata": {},
   "outputs": [],
   "source": [
    "# place edf files in edf_path\n",
    "for sub in os.listdir(fmt_path):\n",
    "    # create sub/eeg path if not exist\n",
    "    if not os.path.exists(os.path.join(edf_path, sub)):\n",
    "        os.makedirs(os.path.join(edf_path, sub, eeg_path))\n",
    "    for mff in os.listdir(os.path.join(fmt_path, sub, eeg_path)):\n",
    "        if \n",
    "        edf_file_path = os.path.join(edf_path, sub, eeg_path, \"{}edf\".format(mff[:-3]))\n",
    "        if not os.path.exists(edf_file_path):\n",
    "            write_mne_edf(os.path.join(fmt_path, sub, eeg_path, mff), edf_file_path, overwrite=True)"
   ]
  },
  {
   "source": [
    "# 3. BIDS"
   ],
   "cell_type": "markdown",
   "metadata": {}
  },
  {
   "source": [
    "## convert to bids"
   ],
   "cell_type": "markdown",
   "metadata": {}
  },
  {
   "cell_type": "code",
   "execution_count": null,
   "metadata": {},
   "outputs": [],
   "source": [
    "import mne\n",
    "from mne_bids import write_raw_bids, BIDSPath, print_dir_tree"
   ]
  },
  {
   "cell_type": "code",
   "execution_count": null,
   "metadata": {},
   "outputs": [],
   "source": [
    "if os.path.exists(bids_root_path):\n",
    "    shutil.rmtree(bids_root_path)\n",
    "else:\n",
    "    os.makedirs(bids_root_path)"
   ]
  },
  {
   "cell_type": "code",
   "execution_count": null,
   "metadata": {},
   "outputs": [],
   "source": [
    "# TODO\n",
    "for sub in os.listdir(edf_path):\n",
    "    # create sub/eeg path if not exist\n",
    "    # if not os.path.exists(os.path.join(edf_path, sub)):\n",
    "    #     os.makedirs(os.path.join(edf_path, sub, eeg_path))\n",
    "    for edf_file in os.listdir(os.path.join(edf_path, sub, eeg_path)):\n",
    "        subject_id = edf_file.split(\"_\")[0].split(\"-\")[1]\n",
    "        task = edf_file.split(\"_\")[1].split(\"-\")[1]\n",
    "        bids_path = BIDSPath(subject=subject_id, task=task, root=bids_root_path)\n",
    "        raw = mne.io.read_raw_edf(os.path.join(edf_path, sub, eeg_path, edf_file), preload=False)\n",
    "        raw.info[\"line_freq\"] = 50\n",
    "        write_raw_bids(raw, bids_path, overwrite=True)"
   ]
  }
 ]
}