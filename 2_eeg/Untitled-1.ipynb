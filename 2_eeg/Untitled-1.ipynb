{
 "cells": [
  {
   "cell_type": "code",
   "execution_count": 1,
   "metadata": {},
   "outputs": [
    {
     "name": "stdout",
     "output_type": "stream",
     "text": [
      "Automatically created module for IPython interactive environment\n"
     ]
    }
   ],
   "source": [
    "import matplotlib.pyplot as plt\n",
    "%config InlineBackend.figure_formats = [\"svg\"]\n",
    "\n",
    "import mne\n",
    "from mne import io\n",
    "from mne.stats import permutation_cluster_test\n",
    "from mne.datasets import sample\n",
    "\n",
    "import warnings\n",
    "warnings.filterwarnings(\"ignore\") \n",
    "\n",
    "print(__doc__)"
   ]
  },
  {
   "cell_type": "code",
   "execution_count": 2,
   "metadata": {},
   "outputs": [
    {
     "name": "stdout",
     "output_type": "stream",
     "text": [
      "Opening raw data file /home/haiyanwu/mne_data/MNE-sample-data//MEG/sample/sample_audvis_filt-0-40_raw.fif...\n",
      "    Read a total of 4 projection items:\n",
      "        PCA-v1 (1 x 102)  idle\n",
      "        PCA-v2 (1 x 102)  idle\n",
      "        PCA-v3 (1 x 102)  idle\n",
      "        Average EEG reference (1 x 60)  idle\n",
      "    Range : 6450 ... 48149 =     42.956 ...   320.665 secs\n",
      "Ready.\n"
     ]
    }
   ],
   "source": [
    "data_path = sample.data_path()\n",
    "raw_fname = data_path + '/MEG/sample/sample_audvis_filt-0-40_raw.fif'\n",
    "event_fname = data_path + '/MEG/sample/sample_audvis_filt-0-40_raw-eve.fif'\n",
    "tmin = -0.2\n",
    "tmax = 0.5\n",
    "\n",
    "#   Setup for reading the raw data\n",
    "raw = io.read_raw_fif(raw_fname)\n",
    "events = mne.read_events(event_fname)\n",
    "\n",
    "channel = 'MEG 1332'  # include only this channel in analysis\n",
    "include = [channel]"
   ]
  },
  {
   "cell_type": "code",
   "execution_count": 3,
   "metadata": {},
   "outputs": [
    {
     "name": "stdout",
     "output_type": "stream",
     "text": [
      "Not setting metadata\n",
      "72 matching events found\n",
      "Setting baseline interval to [-0.19979521315838786, 0.0] sec\n",
      "Applying baseline correction (mode: mean)\n",
      "4 projection items activated\n",
      "Loading data for 72 events and 106 original time points ...\n",
      "    Rejecting  epoch based on EOG : ['EOG 061']\n",
      "    Rejecting  epoch based on EOG : ['EOG 061']\n",
      "    Rejecting  epoch based on EOG : ['EOG 061']\n",
      "    Rejecting  epoch based on EOG : ['EOG 061']\n",
      "    Rejecting  epoch based on EOG : ['EOG 061']\n",
      "    Rejecting  epoch based on EOG : ['EOG 061']\n",
      "    Rejecting  epoch based on EOG : ['EOG 061']\n",
      "    Rejecting  epoch based on EOG : ['EOG 061']\n",
      "    Rejecting  epoch based on EOG : ['EOG 061']\n",
      "    Rejecting  epoch based on EOG : ['EOG 061']\n",
      "    Rejecting  epoch based on EOG : ['EOG 061']\n",
      "    Rejecting  epoch based on EOG : ['EOG 061']\n",
      "    Rejecting  epoch based on EOG : ['EOG 061']\n",
      "    Rejecting  epoch based on EOG : ['EOG 061']\n",
      "    Rejecting  epoch based on EOG : ['EOG 061']\n",
      "    Rejecting  epoch based on EOG : ['EOG 061']\n",
      "16 bad epochs dropped\n",
      "Not setting metadata\n",
      "73 matching events found\n",
      "Setting baseline interval to [-0.19979521315838786, 0.0] sec\n",
      "Applying baseline correction (mode: mean)\n",
      "4 projection items activated\n",
      "Loading data for 73 events and 106 original time points ...\n",
      "    Rejecting  epoch based on EOG : ['EOG 061']\n",
      "    Rejecting  epoch based on EOG : ['EOG 061']\n",
      "    Rejecting  epoch based on EOG : ['EOG 061']\n",
      "    Rejecting  epoch based on EOG : ['EOG 061']\n",
      "    Rejecting  epoch based on EOG : ['EOG 061']\n",
      "    Rejecting  epoch based on EOG : ['EOG 061']\n",
      "    Rejecting  epoch based on EOG : ['EOG 061']\n",
      "    Rejecting  epoch based on EOG : ['EOG 061']\n",
      "    Rejecting  epoch based on EOG : ['EOG 061']\n",
      "    Rejecting  epoch based on EOG : ['EOG 061']\n",
      "    Rejecting  epoch based on EOG : ['EOG 061']\n",
      "11 bad epochs dropped\n"
     ]
    }
   ],
   "source": [
    "picks = mne.pick_types(raw.info, meg=False, eog=True, include=include,\n",
    "                       exclude='bads')\n",
    "event_id = 1\n",
    "reject = dict(grad=4000e-13, eog=150e-6)\n",
    "epochs1 = mne.Epochs(raw, events, event_id, tmin, tmax, picks=picks,\n",
    "                     baseline=(None, 0), reject=reject)\n",
    "condition1 = epochs1.get_data()  # as 3D matrix\n",
    "\n",
    "event_id = 2\n",
    "epochs2 = mne.Epochs(raw, events, event_id, tmin, tmax, picks=picks,\n",
    "                     baseline=(None, 0), reject=reject)\n",
    "condition2 = epochs2.get_data()  # as 3D matrix\n",
    "\n",
    "condition1 = condition1[:, 0, :]  # take only one channel to get a 2D array\n",
    "condition2 = condition2[:, 0, :]  # take only one channel to get a 2D array"
   ]
  },
  {
   "cell_type": "code",
   "execution_count": 4,
   "metadata": {},
   "outputs": [
    {
     "name": "stdout",
     "output_type": "stream",
     "text": [
      "stat_fun(H1): min=0.000227 max=38.167093\n",
      "Running initial clustering\n",
      "Found 4 clusters\n",
      "Permuting 999 times...\n"
     ]
    },
    {
     "data": {
      "application/vnd.jupyter.widget-view+json": {
       "model_id": "39969f78a03c4f4cbb9374224dfcb949",
       "version_major": 2,
       "version_minor": 0
      },
      "text/plain": [
       "  0%|          |  : 0/999 [00:00<?,       ?it/s]"
      ]
     },
     "metadata": {},
     "output_type": "display_data"
    },
    {
     "name": "stdout",
     "output_type": "stream",
     "text": [
      "Computing cluster p-values\n",
      "Done.\n"
     ]
    }
   ],
   "source": [
    "threshold = 6.0\n",
    "T_obs, clusters, cluster_p_values, H0 = \\\n",
    "    permutation_cluster_test([condition1, condition2], n_permutations=1000,\n",
    "                             threshold=threshold, tail=1, n_jobs=1,\n",
    "                             out_type='mask')"
   ]
  },
  {
   "cell_type": "code",
   "execution_count": 10,
   "metadata": {},
   "outputs": [
    {
     "data": {
      "image/svg+xml": "<?xml version=\"1.0\" encoding=\"utf-8\" standalone=\"no\"?>\n<!DOCTYPE svg PUBLIC \"-//W3C//DTD SVG 1.1//EN\"\n  \"http://www.w3.org/Graphics/SVG/1.1/DTD/svg11.dtd\">\n<svg height=\"263.63625pt\" version=\"1.1\" viewBox=\"0 0 505.760937 263.63625\" width=\"505.760937pt\" xmlns=\"http://www.w3.org/2000/svg\" xmlns:xlink=\"http://www.w3.org/1999/xlink\">\n <metadata>\n  <rdf:RDF xmlns:cc=\"http://creativecommons.org/ns#\" xmlns:dc=\"http://purl.org/dc/elements/1.1/\" xmlns:rdf=\"http://www.w3.org/1999/02/22-rdf-syntax-ns#\">\n   <cc:Work>\n    <dc:type rdf:resource=\"http://purl.org/dc/dcmitype/StillImage\"/>\n    <dc:date>2022-04-16T17:54:17.996196</dc:date>\n    <dc:format>image/svg+xml</dc:format>\n    <dc:creator>\n     <cc:Agent>\n      <dc:title>Matplotlib v3.4.2, https://matplotlib.org/</dc:title>\n     </cc:Agent>\n    </dc:creator>\n   </cc:Work>\n  </rdf:RDF>\n </metadata>\n <defs>\n  <style type=\"text/css\">*{stroke-linecap:butt;stroke-linejoin:round;}</style>\n </defs>\n <g id=\"figure_1\">\n  <g id=\"patch_1\">\n   <path d=\"M 0 263.63625 \nL 505.760937 263.63625 \nL 505.760937 0 \nL 0 0 \nz\n\" style=\"fill:none;\"/>\n  </g>\n  <g id=\"axes_1\">\n   <g id=\"patch_2\">\n    <path d=\"M 52.160938 239.758125 \nL 498.560937 239.758125 \nL 498.560937 22.318125 \nL 52.160938 22.318125 \nz\n\" style=\"fill:#ffffff;\"/>\n   </g>\n   <g id=\"patch_3\">\n    <path clip-path=\"url(#paac8dce636)\" d=\"M 172.940158 239.758125 \nL 172.940158 22.318125 \nL 172.940158 22.318125 \nz\n\" style=\"fill:#4c4c4c;opacity:0.3;stroke:#4c4c4c;stroke-linejoin:miter;\"/>\n   </g>\n   <g id=\"patch_4\">\n    <path clip-path=\"url(#paac8dce636)\" d=\"M 211.589509 239.758125 \nL 211.589509 22.318125 \nL 211.589509 22.318125 \nz\n\" style=\"fill:#4c4c4c;opacity:0.3;stroke:#4c4c4c;stroke-linejoin:miter;\"/>\n   </g>\n   <g id=\"patch_5\">\n    <path clip-path=\"url(#paac8dce636)\" d=\"M 227.049249 239.758125 \nL 227.049249 22.318125 \nL 242.508989 22.318125 \nL 242.508989 239.758125 \nz\n\" style=\"fill:#ff0000;opacity:0.3;stroke:#ff0000;stroke-linejoin:miter;\"/>\n   </g>\n   <g id=\"patch_6\">\n    <path clip-path=\"url(#paac8dce636)\" d=\"M 257.96873 239.758125 \nL 257.96873 22.318125 \nL 257.96873 22.318125 \nz\n\" style=\"fill:#4c4c4c;opacity:0.3;stroke:#4c4c4c;stroke-linejoin:miter;\"/>\n   </g>\n   <g id=\"matplotlib.axis_1\">\n    <g id=\"xtick_1\">\n     <g id=\"line2d_1\">\n      <defs>\n       <path d=\"M 0 0 \nL 0 3.5 \n\" id=\"m63aa6c829a\" style=\"stroke:#000000;stroke-width:0.8;\"/>\n      </defs>\n      <g>\n       <use style=\"stroke:#000000;stroke-width:0.8;\" x=\"72.333002\" xlink:href=\"#m63aa6c829a\" y=\"239.758125\"/>\n      </g>\n     </g>\n     <g id=\"text_1\">\n      <!-- −0.2 -->\n      <g transform=\"translate(60.191595 254.356563)scale(0.1 -0.1)\">\n       <defs>\n        <path d=\"M 678 2272 \nL 4684 2272 \nL 4684 1741 \nL 678 1741 \nL 678 2272 \nz\n\" id=\"DejaVuSans-2212\" transform=\"scale(0.015625)\"/>\n        <path d=\"M 2034 4250 \nQ 1547 4250 1301 3770 \nQ 1056 3291 1056 2328 \nQ 1056 1369 1301 889 \nQ 1547 409 2034 409 \nQ 2525 409 2770 889 \nQ 3016 1369 3016 2328 \nQ 3016 3291 2770 3770 \nQ 2525 4250 2034 4250 \nz\nM 2034 4750 \nQ 2819 4750 3233 4129 \nQ 3647 3509 3647 2328 \nQ 3647 1150 3233 529 \nQ 2819 -91 2034 -91 \nQ 1250 -91 836 529 \nQ 422 1150 422 2328 \nQ 422 3509 836 4129 \nQ 1250 4750 2034 4750 \nz\n\" id=\"DejaVuSans-30\" transform=\"scale(0.015625)\"/>\n        <path d=\"M 684 794 \nL 1344 794 \nL 1344 0 \nL 684 0 \nL 684 794 \nz\n\" id=\"DejaVuSans-2e\" transform=\"scale(0.015625)\"/>\n        <path d=\"M 1228 531 \nL 3431 531 \nL 3431 0 \nL 469 0 \nL 469 531 \nQ 828 903 1448 1529 \nQ 2069 2156 2228 2338 \nQ 2531 2678 2651 2914 \nQ 2772 3150 2772 3378 \nQ 2772 3750 2511 3984 \nQ 2250 4219 1831 4219 \nQ 1534 4219 1204 4116 \nQ 875 4013 500 3803 \nL 500 4441 \nQ 881 4594 1212 4672 \nQ 1544 4750 1819 4750 \nQ 2544 4750 2975 4387 \nQ 3406 4025 3406 3419 \nQ 3406 3131 3298 2873 \nQ 3191 2616 2906 2266 \nQ 2828 2175 2409 1742 \nQ 1991 1309 1228 531 \nz\n\" id=\"DejaVuSans-32\" transform=\"scale(0.015625)\"/>\n       </defs>\n       <use xlink:href=\"#DejaVuSans-2212\"/>\n       <use x=\"83.789062\" xlink:href=\"#DejaVuSans-30\"/>\n       <use x=\"147.412109\" xlink:href=\"#DejaVuSans-2e\"/>\n       <use x=\"179.199219\" xlink:href=\"#DejaVuSans-32\"/>\n      </g>\n     </g>\n    </g>\n    <g id=\"xtick_2\">\n     <g id=\"line2d_2\">\n      <g>\n       <use style=\"stroke:#000000;stroke-width:0.8;\" x=\"130.36645\" xlink:href=\"#m63aa6c829a\" y=\"239.758125\"/>\n      </g>\n     </g>\n     <g id=\"text_2\">\n      <!-- −0.1 -->\n      <g transform=\"translate(118.225044 254.356563)scale(0.1 -0.1)\">\n       <defs>\n        <path d=\"M 794 531 \nL 1825 531 \nL 1825 4091 \nL 703 3866 \nL 703 4441 \nL 1819 4666 \nL 2450 4666 \nL 2450 531 \nL 3481 531 \nL 3481 0 \nL 794 0 \nL 794 531 \nz\n\" id=\"DejaVuSans-31\" transform=\"scale(0.015625)\"/>\n       </defs>\n       <use xlink:href=\"#DejaVuSans-2212\"/>\n       <use x=\"83.789062\" xlink:href=\"#DejaVuSans-30\"/>\n       <use x=\"147.412109\" xlink:href=\"#DejaVuSans-2e\"/>\n       <use x=\"179.199219\" xlink:href=\"#DejaVuSans-31\"/>\n      </g>\n     </g>\n    </g>\n    <g id=\"xtick_3\">\n     <g id=\"line2d_3\">\n      <g>\n       <use style=\"stroke:#000000;stroke-width:0.8;\" x=\"188.399899\" xlink:href=\"#m63aa6c829a\" y=\"239.758125\"/>\n      </g>\n     </g>\n     <g id=\"text_3\">\n      <!-- 0.0 -->\n      <g transform=\"translate(180.448336 254.356563)scale(0.1 -0.1)\">\n       <use xlink:href=\"#DejaVuSans-30\"/>\n       <use x=\"63.623047\" xlink:href=\"#DejaVuSans-2e\"/>\n       <use x=\"95.410156\" xlink:href=\"#DejaVuSans-30\"/>\n      </g>\n     </g>\n    </g>\n    <g id=\"xtick_4\">\n     <g id=\"line2d_4\">\n      <g>\n       <use style=\"stroke:#000000;stroke-width:0.8;\" x=\"246.433347\" xlink:href=\"#m63aa6c829a\" y=\"239.758125\"/>\n      </g>\n     </g>\n     <g id=\"text_4\">\n      <!-- 0.1 -->\n      <g transform=\"translate(238.481784 254.356563)scale(0.1 -0.1)\">\n       <use xlink:href=\"#DejaVuSans-30\"/>\n       <use x=\"63.623047\" xlink:href=\"#DejaVuSans-2e\"/>\n       <use x=\"95.410156\" xlink:href=\"#DejaVuSans-31\"/>\n      </g>\n     </g>\n    </g>\n    <g id=\"xtick_5\">\n     <g id=\"line2d_5\">\n      <g>\n       <use style=\"stroke:#000000;stroke-width:0.8;\" x=\"304.466795\" xlink:href=\"#m63aa6c829a\" y=\"239.758125\"/>\n      </g>\n     </g>\n     <g id=\"text_5\">\n      <!-- 0.2 -->\n      <g transform=\"translate(296.515233 254.356563)scale(0.1 -0.1)\">\n       <use xlink:href=\"#DejaVuSans-30\"/>\n       <use x=\"63.623047\" xlink:href=\"#DejaVuSans-2e\"/>\n       <use x=\"95.410156\" xlink:href=\"#DejaVuSans-32\"/>\n      </g>\n     </g>\n    </g>\n    <g id=\"xtick_6\">\n     <g id=\"line2d_6\">\n      <g>\n       <use style=\"stroke:#000000;stroke-width:0.8;\" x=\"362.500244\" xlink:href=\"#m63aa6c829a\" y=\"239.758125\"/>\n      </g>\n     </g>\n     <g id=\"text_6\">\n      <!-- 0.3 -->\n      <g transform=\"translate(354.548681 254.356563)scale(0.1 -0.1)\">\n       <defs>\n        <path d=\"M 2597 2516 \nQ 3050 2419 3304 2112 \nQ 3559 1806 3559 1356 \nQ 3559 666 3084 287 \nQ 2609 -91 1734 -91 \nQ 1441 -91 1130 -33 \nQ 819 25 488 141 \nL 488 750 \nQ 750 597 1062 519 \nQ 1375 441 1716 441 \nQ 2309 441 2620 675 \nQ 2931 909 2931 1356 \nQ 2931 1769 2642 2001 \nQ 2353 2234 1838 2234 \nL 1294 2234 \nL 1294 2753 \nL 1863 2753 \nQ 2328 2753 2575 2939 \nQ 2822 3125 2822 3475 \nQ 2822 3834 2567 4026 \nQ 2313 4219 1838 4219 \nQ 1578 4219 1281 4162 \nQ 984 4106 628 3988 \nL 628 4550 \nQ 988 4650 1302 4700 \nQ 1616 4750 1894 4750 \nQ 2613 4750 3031 4423 \nQ 3450 4097 3450 3541 \nQ 3450 3153 3228 2886 \nQ 3006 2619 2597 2516 \nz\n\" id=\"DejaVuSans-33\" transform=\"scale(0.015625)\"/>\n       </defs>\n       <use xlink:href=\"#DejaVuSans-30\"/>\n       <use x=\"63.623047\" xlink:href=\"#DejaVuSans-2e\"/>\n       <use x=\"95.410156\" xlink:href=\"#DejaVuSans-33\"/>\n      </g>\n     </g>\n    </g>\n    <g id=\"xtick_7\">\n     <g id=\"line2d_7\">\n      <g>\n       <use style=\"stroke:#000000;stroke-width:0.8;\" x=\"420.533692\" xlink:href=\"#m63aa6c829a\" y=\"239.758125\"/>\n      </g>\n     </g>\n     <g id=\"text_7\">\n      <!-- 0.4 -->\n      <g transform=\"translate(412.58213 254.356563)scale(0.1 -0.1)\">\n       <defs>\n        <path d=\"M 2419 4116 \nL 825 1625 \nL 2419 1625 \nL 2419 4116 \nz\nM 2253 4666 \nL 3047 4666 \nL 3047 1625 \nL 3713 1625 \nL 3713 1100 \nL 3047 1100 \nL 3047 0 \nL 2419 0 \nL 2419 1100 \nL 313 1100 \nL 313 1709 \nL 2253 4666 \nz\n\" id=\"DejaVuSans-34\" transform=\"scale(0.015625)\"/>\n       </defs>\n       <use xlink:href=\"#DejaVuSans-30\"/>\n       <use x=\"63.623047\" xlink:href=\"#DejaVuSans-2e\"/>\n       <use x=\"95.410156\" xlink:href=\"#DejaVuSans-34\"/>\n      </g>\n     </g>\n    </g>\n    <g id=\"xtick_8\">\n     <g id=\"line2d_8\">\n      <g>\n       <use style=\"stroke:#000000;stroke-width:0.8;\" x=\"478.567141\" xlink:href=\"#m63aa6c829a\" y=\"239.758125\"/>\n      </g>\n     </g>\n     <g id=\"text_8\">\n      <!-- 0.5 -->\n      <g transform=\"translate(470.615578 254.356563)scale(0.1 -0.1)\">\n       <defs>\n        <path d=\"M 691 4666 \nL 3169 4666 \nL 3169 4134 \nL 1269 4134 \nL 1269 2991 \nQ 1406 3038 1543 3061 \nQ 1681 3084 1819 3084 \nQ 2600 3084 3056 2656 \nQ 3513 2228 3513 1497 \nQ 3513 744 3044 326 \nQ 2575 -91 1722 -91 \nQ 1428 -91 1123 -41 \nQ 819 9 494 109 \nL 494 744 \nQ 775 591 1075 516 \nQ 1375 441 1709 441 \nQ 2250 441 2565 725 \nQ 2881 1009 2881 1497 \nQ 2881 1984 2565 2268 \nQ 2250 2553 1709 2553 \nQ 1456 2553 1204 2497 \nQ 953 2441 691 2322 \nL 691 4666 \nz\n\" id=\"DejaVuSans-35\" transform=\"scale(0.015625)\"/>\n       </defs>\n       <use xlink:href=\"#DejaVuSans-30\"/>\n       <use x=\"63.623047\" xlink:href=\"#DejaVuSans-2e\"/>\n       <use x=\"95.410156\" xlink:href=\"#DejaVuSans-35\"/>\n      </g>\n     </g>\n    </g>\n   </g>\n   <g id=\"matplotlib.axis_2\">\n    <g id=\"ytick_1\">\n     <g id=\"line2d_9\">\n      <defs>\n       <path d=\"M 0 0 \nL -3.5 0 \n\" id=\"mbaf2bb8b87\" style=\"stroke:#000000;stroke-width:0.8;\"/>\n      </defs>\n      <g>\n       <use style=\"stroke:#000000;stroke-width:0.8;\" x=\"52.160938\" xlink:href=\"#mbaf2bb8b87\" y=\"228.385099\"/>\n      </g>\n     </g>\n     <g id=\"text_9\">\n      <!-- −0.5 -->\n      <g transform=\"translate(20.878125 232.184318)scale(0.1 -0.1)\">\n       <use xlink:href=\"#DejaVuSans-2212\"/>\n       <use x=\"83.789062\" xlink:href=\"#DejaVuSans-30\"/>\n       <use x=\"147.412109\" xlink:href=\"#DejaVuSans-2e\"/>\n       <use x=\"179.199219\" xlink:href=\"#DejaVuSans-35\"/>\n      </g>\n     </g>\n    </g>\n    <g id=\"ytick_2\">\n     <g id=\"line2d_10\">\n      <g>\n       <use style=\"stroke:#000000;stroke-width:0.8;\" x=\"52.160938\" xlink:href=\"#mbaf2bb8b87\" y=\"189.135617\"/>\n      </g>\n     </g>\n     <g id=\"text_10\">\n      <!-- 0.0 -->\n      <g transform=\"translate(29.257812 192.934836)scale(0.1 -0.1)\">\n       <use xlink:href=\"#DejaVuSans-30\"/>\n       <use x=\"63.623047\" xlink:href=\"#DejaVuSans-2e\"/>\n       <use x=\"95.410156\" xlink:href=\"#DejaVuSans-30\"/>\n      </g>\n     </g>\n    </g>\n    <g id=\"ytick_3\">\n     <g id=\"line2d_11\">\n      <g>\n       <use style=\"stroke:#000000;stroke-width:0.8;\" x=\"52.160938\" xlink:href=\"#mbaf2bb8b87\" y=\"149.886136\"/>\n      </g>\n     </g>\n     <g id=\"text_11\">\n      <!-- 0.5 -->\n      <g transform=\"translate(29.257812 153.685355)scale(0.1 -0.1)\">\n       <use xlink:href=\"#DejaVuSans-30\"/>\n       <use x=\"63.623047\" xlink:href=\"#DejaVuSans-2e\"/>\n       <use x=\"95.410156\" xlink:href=\"#DejaVuSans-35\"/>\n      </g>\n     </g>\n    </g>\n    <g id=\"ytick_4\">\n     <g id=\"line2d_12\">\n      <g>\n       <use style=\"stroke:#000000;stroke-width:0.8;\" x=\"52.160938\" xlink:href=\"#mbaf2bb8b87\" y=\"110.636654\"/>\n      </g>\n     </g>\n     <g id=\"text_12\">\n      <!-- 1.0 -->\n      <g transform=\"translate(29.257812 114.435873)scale(0.1 -0.1)\">\n       <use xlink:href=\"#DejaVuSans-31\"/>\n       <use x=\"63.623047\" xlink:href=\"#DejaVuSans-2e\"/>\n       <use x=\"95.410156\" xlink:href=\"#DejaVuSans-30\"/>\n      </g>\n     </g>\n    </g>\n    <g id=\"ytick_5\">\n     <g id=\"line2d_13\">\n      <g>\n       <use style=\"stroke:#000000;stroke-width:0.8;\" x=\"52.160938\" xlink:href=\"#mbaf2bb8b87\" y=\"71.387173\"/>\n      </g>\n     </g>\n     <g id=\"text_13\">\n      <!-- 1.5 -->\n      <g transform=\"translate(29.257812 75.186392)scale(0.1 -0.1)\">\n       <use xlink:href=\"#DejaVuSans-31\"/>\n       <use x=\"63.623047\" xlink:href=\"#DejaVuSans-2e\"/>\n       <use x=\"95.410156\" xlink:href=\"#DejaVuSans-35\"/>\n      </g>\n     </g>\n    </g>\n    <g id=\"ytick_6\">\n     <g id=\"line2d_14\">\n      <g>\n       <use style=\"stroke:#000000;stroke-width:0.8;\" x=\"52.160938\" xlink:href=\"#mbaf2bb8b87\" y=\"32.137691\"/>\n      </g>\n     </g>\n     <g id=\"text_14\">\n      <!-- 2.0 -->\n      <g transform=\"translate(29.257812 35.93691)scale(0.1 -0.1)\">\n       <use xlink:href=\"#DejaVuSans-32\"/>\n       <use x=\"63.623047\" xlink:href=\"#DejaVuSans-2e\"/>\n       <use x=\"95.410156\" xlink:href=\"#DejaVuSans-30\"/>\n      </g>\n     </g>\n    </g>\n    <g id=\"text_15\">\n     <!-- MEG (T / m) -->\n     <g transform=\"translate(14.798437 160.663125)rotate(-90)scale(0.1 -0.1)\">\n      <defs>\n       <path d=\"M 628 4666 \nL 1569 4666 \nL 2759 1491 \nL 3956 4666 \nL 4897 4666 \nL 4897 0 \nL 4281 0 \nL 4281 4097 \nL 3078 897 \nL 2444 897 \nL 1241 4097 \nL 1241 0 \nL 628 0 \nL 628 4666 \nz\n\" id=\"DejaVuSans-4d\" transform=\"scale(0.015625)\"/>\n       <path d=\"M 628 4666 \nL 3578 4666 \nL 3578 4134 \nL 1259 4134 \nL 1259 2753 \nL 3481 2753 \nL 3481 2222 \nL 1259 2222 \nL 1259 531 \nL 3634 531 \nL 3634 0 \nL 628 0 \nL 628 4666 \nz\n\" id=\"DejaVuSans-45\" transform=\"scale(0.015625)\"/>\n       <path d=\"M 3809 666 \nL 3809 1919 \nL 2778 1919 \nL 2778 2438 \nL 4434 2438 \nL 4434 434 \nQ 4069 175 3628 42 \nQ 3188 -91 2688 -91 \nQ 1594 -91 976 548 \nQ 359 1188 359 2328 \nQ 359 3472 976 4111 \nQ 1594 4750 2688 4750 \nQ 3144 4750 3555 4637 \nQ 3966 4525 4313 4306 \nL 4313 3634 \nQ 3963 3931 3569 4081 \nQ 3175 4231 2741 4231 \nQ 1884 4231 1454 3753 \nQ 1025 3275 1025 2328 \nQ 1025 1384 1454 906 \nQ 1884 428 2741 428 \nQ 3075 428 3337 486 \nQ 3600 544 3809 666 \nz\n\" id=\"DejaVuSans-47\" transform=\"scale(0.015625)\"/>\n       <path id=\"DejaVuSans-20\" transform=\"scale(0.015625)\"/>\n       <path d=\"M 1984 4856 \nQ 1566 4138 1362 3434 \nQ 1159 2731 1159 2009 \nQ 1159 1288 1364 580 \nQ 1569 -128 1984 -844 \nL 1484 -844 \nQ 1016 -109 783 600 \nQ 550 1309 550 2009 \nQ 550 2706 781 3412 \nQ 1013 4119 1484 4856 \nL 1984 4856 \nz\n\" id=\"DejaVuSans-28\" transform=\"scale(0.015625)\"/>\n       <path d=\"M -19 4666 \nL 3928 4666 \nL 3928 4134 \nL 2272 4134 \nL 2272 0 \nL 1638 0 \nL 1638 4134 \nL -19 4134 \nL -19 4666 \nz\n\" id=\"DejaVuSans-54\" transform=\"scale(0.015625)\"/>\n       <path d=\"M 1625 4666 \nL 2156 4666 \nL 531 -594 \nL 0 -594 \nL 1625 4666 \nz\n\" id=\"DejaVuSans-2f\" transform=\"scale(0.015625)\"/>\n       <path d=\"M 3328 2828 \nQ 3544 3216 3844 3400 \nQ 4144 3584 4550 3584 \nQ 5097 3584 5394 3201 \nQ 5691 2819 5691 2113 \nL 5691 0 \nL 5113 0 \nL 5113 2094 \nQ 5113 2597 4934 2840 \nQ 4756 3084 4391 3084 \nQ 3944 3084 3684 2787 \nQ 3425 2491 3425 1978 \nL 3425 0 \nL 2847 0 \nL 2847 2094 \nQ 2847 2600 2669 2842 \nQ 2491 3084 2119 3084 \nQ 1678 3084 1418 2786 \nQ 1159 2488 1159 1978 \nL 1159 0 \nL 581 0 \nL 581 3500 \nL 1159 3500 \nL 1159 2956 \nQ 1356 3278 1631 3431 \nQ 1906 3584 2284 3584 \nQ 2666 3584 2933 3390 \nQ 3200 3197 3328 2828 \nz\n\" id=\"DejaVuSans-6d\" transform=\"scale(0.015625)\"/>\n       <path d=\"M 513 4856 \nL 1013 4856 \nQ 1481 4119 1714 3412 \nQ 1947 2706 1947 2009 \nQ 1947 1309 1714 600 \nQ 1481 -109 1013 -844 \nL 513 -844 \nQ 928 -128 1133 580 \nQ 1338 1288 1338 2009 \nQ 1338 2731 1133 3434 \nQ 928 4138 513 4856 \nz\n\" id=\"DejaVuSans-29\" transform=\"scale(0.015625)\"/>\n      </defs>\n      <use xlink:href=\"#DejaVuSans-4d\"/>\n      <use x=\"86.279297\" xlink:href=\"#DejaVuSans-45\"/>\n      <use x=\"149.462891\" xlink:href=\"#DejaVuSans-47\"/>\n      <use x=\"226.953125\" xlink:href=\"#DejaVuSans-20\"/>\n      <use x=\"258.740234\" xlink:href=\"#DejaVuSans-28\"/>\n      <use x=\"297.753906\" xlink:href=\"#DejaVuSans-54\"/>\n      <use x=\"358.837891\" xlink:href=\"#DejaVuSans-20\"/>\n      <use x=\"390.625\" xlink:href=\"#DejaVuSans-2f\"/>\n      <use x=\"424.316406\" xlink:href=\"#DejaVuSans-20\"/>\n      <use x=\"456.103516\" xlink:href=\"#DejaVuSans-6d\"/>\n      <use x=\"553.515625\" xlink:href=\"#DejaVuSans-29\"/>\n     </g>\n    </g>\n    <g id=\"text_16\">\n     <!-- 1e−11 -->\n     <g transform=\"translate(52.160938 19.318125)scale(0.1 -0.1)\">\n      <defs>\n       <path d=\"M 3597 1894 \nL 3597 1613 \nL 953 1613 \nQ 991 1019 1311 708 \nQ 1631 397 2203 397 \nQ 2534 397 2845 478 \nQ 3156 559 3463 722 \nL 3463 178 \nQ 3153 47 2828 -22 \nQ 2503 -91 2169 -91 \nQ 1331 -91 842 396 \nQ 353 884 353 1716 \nQ 353 2575 817 3079 \nQ 1281 3584 2069 3584 \nQ 2775 3584 3186 3129 \nQ 3597 2675 3597 1894 \nz\nM 3022 2063 \nQ 3016 2534 2758 2815 \nQ 2500 3097 2075 3097 \nQ 1594 3097 1305 2825 \nQ 1016 2553 972 2059 \nL 3022 2063 \nz\n\" id=\"DejaVuSans-65\" transform=\"scale(0.015625)\"/>\n      </defs>\n      <use xlink:href=\"#DejaVuSans-31\"/>\n      <use x=\"63.623047\" xlink:href=\"#DejaVuSans-65\"/>\n      <use x=\"125.146484\" xlink:href=\"#DejaVuSans-2212\"/>\n      <use x=\"208.935547\" xlink:href=\"#DejaVuSans-31\"/>\n      <use x=\"272.558594\" xlink:href=\"#DejaVuSans-31\"/>\n     </g>\n    </g>\n   </g>\n   <g id=\"line2d_15\">\n    <path clip-path=\"url(#paac8dce636)\" d=\"M 72.451847 210.131536 \nL 76.316782 195.025075 \nL 80.181717 184.492478 \nL 84.046652 183.425136 \nL 87.911587 185.828071 \nL 91.776522 186.135002 \nL 95.641457 185.606976 \nL 99.506392 186.969176 \nL 103.371327 189.282491 \nL 107.236262 190.511832 \nL 111.101197 191.327669 \nL 114.966132 193.678833 \nL 118.831067 197.143335 \nL 122.696002 198.961084 \nL 126.560938 197.553681 \nL 130.425873 194.219943 \nL 134.290808 191.054571 \nL 138.155743 189.103575 \nL 142.020678 188.7906 \nL 145.885613 189.613084 \nL 149.750548 189.585946 \nL 153.615483 188.253372 \nL 157.480418 188.646902 \nL 161.345353 191.283873 \nL 165.210288 189.750266 \nL 169.075223 180.373887 \nL 172.940158 171.87675 \nL 176.805093 174.289029 \nL 180.670028 183.084777 \nL 184.534963 187.653484 \nL 188.399899 189.551703 \nL 192.264834 196.283074 \nL 196.129769 203.762669 \nL 199.994704 203.991821 \nL 203.859639 203.54035 \nL 207.724574 213.053759 \nL 211.589509 223.757133 \nL 215.454444 216.326234 \nL 219.319379 188.885743 \nL 223.184314 155.372799 \nL 227.049249 121.24827 \nL 230.914184 82.796942 \nL 234.779119 47.271687 \nL 238.644054 32.201761 \nL 242.508989 43.69149 \nL 246.373925 70.442395 \nL 250.23886 98.497063 \nL 254.103795 120.516057 \nL 257.96873 134.139982 \nL 261.833665 142.407927 \nL 265.6986 153.041094 \nL 269.563535 169.163436 \nL 273.42847 184.396173 \nL 277.293405 192.542674 \nL 281.15834 195.828571 \nL 285.023275 198.036466 \nL 288.88821 196.904374 \nL 292.753145 189.917112 \nL 296.61808 181.094891 \nL 300.483015 175.694699 \nL 304.34795 174.038141 \nL 308.212886 175.788141 \nL 312.077821 183.21773 \nL 315.942756 194.275527 \nL 319.807691 200.316199 \nL 323.672626 198.344078 \nL 327.537561 198.001233 \nL 331.402496 207.869276 \nL 335.267431 222.144052 \nL 339.132366 229.874489 \nL 342.997301 229.575463 \nL 346.862236 225.114229 \nL 350.727171 216.156604 \nL 354.592106 203.853167 \nL 358.457041 196.807551 \nL 362.321976 199.501226 \nL 366.186912 203.864598 \nL 370.051847 203.084658 \nL 373.916782 202.483916 \nL 377.781717 206.092194 \nL 381.646652 206.782333 \nL 385.511587 201.840806 \nL 389.376522 201.983885 \nL 393.241457 211.246165 \nL 397.106392 215.694863 \nL 400.971327 207.349234 \nL 404.836262 200.504633 \nL 408.701197 207.12505 \nL 412.566132 214.722125 \nL 416.431067 207.585379 \nL 420.296002 192.695505 \nL 424.160937 185.017483 \nL 428.025873 182.595767 \nL 431.890808 175.856758 \nL 435.755743 168.49313 \nL 439.620678 170.251456 \nL 443.485613 178.785427 \nL 447.350548 184.310181 \nL 451.215483 184.179788 \nL 455.080418 181.194298 \nL 458.945353 176.104104 \nL 462.810288 171.16916 \nL 466.675223 172.082144 \nL 470.540158 178.622965 \nL 474.405093 182.438193 \nL 478.270028 179.847429 \n\" style=\"fill:none;stroke:#1f77b4;stroke-linecap:square;stroke-width:1.5;\"/>\n   </g>\n   <g id=\"line2d_16\">\n    <path clip-path=\"url(#paac8dce636)\" d=\"M 72.451847 194.947824 \nL 76.316782 197.03227 \nL 80.181717 198.52265 \nL 84.046652 197.433492 \nL 87.911587 192.304801 \nL 91.776522 184.489562 \nL 95.641457 180.853251 \nL 99.506392 185.922794 \nL 103.371327 193.120246 \nL 107.236262 192.98737 \nL 111.101197 187.097762 \nL 114.966132 183.984759 \nL 118.831067 185.233293 \nL 122.696002 185.906841 \nL 126.560938 184.629643 \nL 130.425873 183.367264 \nL 134.290808 181.416768 \nL 138.155743 178.356341 \nL 142.020678 178.256252 \nL 145.885613 183.294183 \nL 149.750548 188.431216 \nL 153.615483 189.185787 \nL 157.480418 188.908206 \nL 161.345353 192.027285 \nL 165.210288 196.105815 \nL 169.075223 196.959774 \nL 172.940158 196.038769 \nL 176.805093 196.241338 \nL 180.670028 195.29518 \nL 184.534963 190.195774 \nL 188.399899 184.657627 \nL 192.264834 184.901637 \nL 196.129769 189.830777 \nL 199.994704 192.530265 \nL 203.859639 191.102401 \nL 207.724574 190.613123 \nL 211.589509 193.142156 \nL 215.454444 193.561276 \nL 219.319379 188.021951 \nL 223.184314 179.001397 \nL 227.049249 167.688861 \nL 230.914184 149.160852 \nL 234.779119 121.528133 \nL 238.644054 93.845629 \nL 242.508989 78.161321 \nL 246.373925 77.470361 \nL 250.23886 85.887506 \nL 254.103795 96.510822 \nL 257.96873 106.090884 \nL 261.833665 116.46403 \nL 265.6986 132.878171 \nL 269.563535 156.220996 \nL 273.42847 178.105499 \nL 277.293405 190.19839 \nL 281.15834 195.462822 \nL 285.023275 201.25974 \nL 288.88821 205.068758 \nL 292.753145 198.744309 \nL 296.61808 184.60061 \nL 300.483015 174.809918 \nL 304.34795 175.415356 \nL 308.212886 181.792321 \nL 312.077821 188.753365 \nL 315.942756 194.749629 \nL 319.807691 197.829481 \nL 323.672626 197.869084 \nL 327.537561 201.102124 \nL 331.402496 212.410235 \nL 335.267431 224.975879 \nL 339.132366 227.464861 \nL 342.997301 219.826216 \nL 346.862236 212.364955 \nL 350.727171 210.459115 \nL 354.592106 209.576162 \nL 358.457041 204.977154 \nL 362.321976 197.811834 \nL 366.186912 191.198515 \nL 370.051847 187.128877 \nL 373.916782 187.504988 \nL 377.781717 192.778165 \nL 381.646652 199.871455 \nL 385.511587 205.685854 \nL 389.376522 211.125962 \nL 393.241457 217.632391 \nL 397.106392 222.17092 \nL 400.971327 220.375445 \nL 404.836262 212.961631 \nL 408.701197 204.862496 \nL 412.566132 199.130127 \nL 416.431067 194.861761 \nL 420.296002 190.301336 \nL 424.160937 185.583439 \nL 428.025873 182.421371 \nL 431.890808 181.915243 \nL 435.755743 182.974531 \nL 439.620678 183.60546 \nL 443.485613 183.459095 \nL 447.350548 183.337584 \nL 451.215483 182.728511 \nL 455.080418 180.678927 \nL 458.945353 178.505209 \nL 462.810288 178.139749 \nL 466.675223 178.549889 \nL 470.540158 177.657517 \nL 474.405093 176.948995 \nL 478.270028 180.192869 \n\" style=\"fill:none;stroke:#ff7f0e;stroke-linecap:square;stroke-width:1.5;\"/>\n   </g>\n   <g id=\"patch_7\">\n    <path d=\"M 52.160938 239.758125 \nL 52.160938 22.318125 \n\" style=\"fill:none;stroke:#000000;stroke-linecap:square;stroke-linejoin:miter;stroke-width:0.8;\"/>\n   </g>\n   <g id=\"patch_8\">\n    <path d=\"M 498.560937 239.758125 \nL 498.560937 22.318125 \n\" style=\"fill:none;stroke:#000000;stroke-linecap:square;stroke-linejoin:miter;stroke-width:0.8;\"/>\n   </g>\n   <g id=\"patch_9\">\n    <path d=\"M 52.160938 239.758125 \nL 498.560937 239.758125 \n\" style=\"fill:none;stroke:#000000;stroke-linecap:square;stroke-linejoin:miter;stroke-width:0.8;\"/>\n   </g>\n   <g id=\"patch_10\">\n    <path d=\"M 52.160938 22.318125 \nL 498.560937 22.318125 \n\" style=\"fill:none;stroke:#000000;stroke-linecap:square;stroke-linejoin:miter;stroke-width:0.8;\"/>\n   </g>\n   <g id=\"text_17\">\n    <!-- Channel : MEG 1332 -->\n    <g transform=\"translate(214.099062 16.318125)scale(0.12 -0.12)\">\n     <defs>\n      <path d=\"M 4122 4306 \nL 4122 3641 \nQ 3803 3938 3442 4084 \nQ 3081 4231 2675 4231 \nQ 1875 4231 1450 3742 \nQ 1025 3253 1025 2328 \nQ 1025 1406 1450 917 \nQ 1875 428 2675 428 \nQ 3081 428 3442 575 \nQ 3803 722 4122 1019 \nL 4122 359 \nQ 3791 134 3420 21 \nQ 3050 -91 2638 -91 \nQ 1578 -91 968 557 \nQ 359 1206 359 2328 \nQ 359 3453 968 4101 \nQ 1578 4750 2638 4750 \nQ 3056 4750 3426 4639 \nQ 3797 4528 4122 4306 \nz\n\" id=\"DejaVuSans-43\" transform=\"scale(0.015625)\"/>\n      <path d=\"M 3513 2113 \nL 3513 0 \nL 2938 0 \nL 2938 2094 \nQ 2938 2591 2744 2837 \nQ 2550 3084 2163 3084 \nQ 1697 3084 1428 2787 \nQ 1159 2491 1159 1978 \nL 1159 0 \nL 581 0 \nL 581 4863 \nL 1159 4863 \nL 1159 2956 \nQ 1366 3272 1645 3428 \nQ 1925 3584 2291 3584 \nQ 2894 3584 3203 3211 \nQ 3513 2838 3513 2113 \nz\n\" id=\"DejaVuSans-68\" transform=\"scale(0.015625)\"/>\n      <path d=\"M 2194 1759 \nQ 1497 1759 1228 1600 \nQ 959 1441 959 1056 \nQ 959 750 1161 570 \nQ 1363 391 1709 391 \nQ 2188 391 2477 730 \nQ 2766 1069 2766 1631 \nL 2766 1759 \nL 2194 1759 \nz\nM 3341 1997 \nL 3341 0 \nL 2766 0 \nL 2766 531 \nQ 2569 213 2275 61 \nQ 1981 -91 1556 -91 \nQ 1019 -91 701 211 \nQ 384 513 384 1019 \nQ 384 1609 779 1909 \nQ 1175 2209 1959 2209 \nL 2766 2209 \nL 2766 2266 \nQ 2766 2663 2505 2880 \nQ 2244 3097 1772 3097 \nQ 1472 3097 1187 3025 \nQ 903 2953 641 2809 \nL 641 3341 \nQ 956 3463 1253 3523 \nQ 1550 3584 1831 3584 \nQ 2591 3584 2966 3190 \nQ 3341 2797 3341 1997 \nz\n\" id=\"DejaVuSans-61\" transform=\"scale(0.015625)\"/>\n      <path d=\"M 3513 2113 \nL 3513 0 \nL 2938 0 \nL 2938 2094 \nQ 2938 2591 2744 2837 \nQ 2550 3084 2163 3084 \nQ 1697 3084 1428 2787 \nQ 1159 2491 1159 1978 \nL 1159 0 \nL 581 0 \nL 581 3500 \nL 1159 3500 \nL 1159 2956 \nQ 1366 3272 1645 3428 \nQ 1925 3584 2291 3584 \nQ 2894 3584 3203 3211 \nQ 3513 2838 3513 2113 \nz\n\" id=\"DejaVuSans-6e\" transform=\"scale(0.015625)\"/>\n      <path d=\"M 603 4863 \nL 1178 4863 \nL 1178 0 \nL 603 0 \nL 603 4863 \nz\n\" id=\"DejaVuSans-6c\" transform=\"scale(0.015625)\"/>\n      <path d=\"M 750 794 \nL 1409 794 \nL 1409 0 \nL 750 0 \nL 750 794 \nz\nM 750 3309 \nL 1409 3309 \nL 1409 2516 \nL 750 2516 \nL 750 3309 \nz\n\" id=\"DejaVuSans-3a\" transform=\"scale(0.015625)\"/>\n     </defs>\n     <use xlink:href=\"#DejaVuSans-43\"/>\n     <use x=\"69.824219\" xlink:href=\"#DejaVuSans-68\"/>\n     <use x=\"133.203125\" xlink:href=\"#DejaVuSans-61\"/>\n     <use x=\"194.482422\" xlink:href=\"#DejaVuSans-6e\"/>\n     <use x=\"257.861328\" xlink:href=\"#DejaVuSans-6e\"/>\n     <use x=\"321.240234\" xlink:href=\"#DejaVuSans-65\"/>\n     <use x=\"382.763672\" xlink:href=\"#DejaVuSans-6c\"/>\n     <use x=\"410.546875\" xlink:href=\"#DejaVuSans-20\"/>\n     <use x=\"442.333984\" xlink:href=\"#DejaVuSans-3a\"/>\n     <use x=\"476.025391\" xlink:href=\"#DejaVuSans-20\"/>\n     <use x=\"507.8125\" xlink:href=\"#DejaVuSans-4d\"/>\n     <use x=\"594.091797\" xlink:href=\"#DejaVuSans-45\"/>\n     <use x=\"657.275391\" xlink:href=\"#DejaVuSans-47\"/>\n     <use x=\"734.765625\" xlink:href=\"#DejaVuSans-20\"/>\n     <use x=\"766.552734\" xlink:href=\"#DejaVuSans-31\"/>\n     <use x=\"830.175781\" xlink:href=\"#DejaVuSans-33\"/>\n     <use x=\"893.798828\" xlink:href=\"#DejaVuSans-33\"/>\n     <use x=\"957.421875\" xlink:href=\"#DejaVuSans-32\"/>\n    </g>\n   </g>\n   <g id=\"legend_1\">\n    <g id=\"patch_11\">\n     <path d=\"M 391.371875 59.674375 \nL 491.560938 59.674375 \nQ 493.560938 59.674375 493.560938 57.674375 \nL 493.560938 29.318125 \nQ 493.560938 27.318125 491.560938 27.318125 \nL 391.371875 27.318125 \nQ 389.371875 27.318125 389.371875 29.318125 \nL 389.371875 57.674375 \nQ 389.371875 59.674375 391.371875 59.674375 \nz\n\" style=\"fill:#ffffff;opacity:0.8;stroke:#cccccc;stroke-linejoin:miter;\"/>\n    </g>\n    <g id=\"line2d_17\">\n     <path d=\"M 393.371875 35.416562 \nL 413.371875 35.416562 \n\" style=\"fill:none;stroke:#1f77b4;stroke-linecap:square;stroke-width:1.5;\"/>\n    </g>\n    <g id=\"line2d_18\"/>\n    <g id=\"text_18\">\n     <!-- ERF (Event 1) -->\n     <g transform=\"translate(421.371875 38.916562)scale(0.1 -0.1)\">\n      <defs>\n       <path d=\"M 2841 2188 \nQ 3044 2119 3236 1894 \nQ 3428 1669 3622 1275 \nL 4263 0 \nL 3584 0 \nL 2988 1197 \nQ 2756 1666 2539 1819 \nQ 2322 1972 1947 1972 \nL 1259 1972 \nL 1259 0 \nL 628 0 \nL 628 4666 \nL 2053 4666 \nQ 2853 4666 3247 4331 \nQ 3641 3997 3641 3322 \nQ 3641 2881 3436 2590 \nQ 3231 2300 2841 2188 \nz\nM 1259 4147 \nL 1259 2491 \nL 2053 2491 \nQ 2509 2491 2742 2702 \nQ 2975 2913 2975 3322 \nQ 2975 3731 2742 3939 \nQ 2509 4147 2053 4147 \nL 1259 4147 \nz\n\" id=\"DejaVuSans-52\" transform=\"scale(0.015625)\"/>\n       <path d=\"M 628 4666 \nL 3309 4666 \nL 3309 4134 \nL 1259 4134 \nL 1259 2759 \nL 3109 2759 \nL 3109 2228 \nL 1259 2228 \nL 1259 0 \nL 628 0 \nL 628 4666 \nz\n\" id=\"DejaVuSans-46\" transform=\"scale(0.015625)\"/>\n       <path d=\"M 191 3500 \nL 800 3500 \nL 1894 563 \nL 2988 3500 \nL 3597 3500 \nL 2284 0 \nL 1503 0 \nL 191 3500 \nz\n\" id=\"DejaVuSans-76\" transform=\"scale(0.015625)\"/>\n       <path d=\"M 1172 4494 \nL 1172 3500 \nL 2356 3500 \nL 2356 3053 \nL 1172 3053 \nL 1172 1153 \nQ 1172 725 1289 603 \nQ 1406 481 1766 481 \nL 2356 481 \nL 2356 0 \nL 1766 0 \nQ 1100 0 847 248 \nQ 594 497 594 1153 \nL 594 3053 \nL 172 3053 \nL 172 3500 \nL 594 3500 \nL 594 4494 \nL 1172 4494 \nz\n\" id=\"DejaVuSans-74\" transform=\"scale(0.015625)\"/>\n      </defs>\n      <use xlink:href=\"#DejaVuSans-45\"/>\n      <use x=\"63.183594\" xlink:href=\"#DejaVuSans-52\"/>\n      <use x=\"132.666016\" xlink:href=\"#DejaVuSans-46\"/>\n      <use x=\"190.185547\" xlink:href=\"#DejaVuSans-20\"/>\n      <use x=\"221.972656\" xlink:href=\"#DejaVuSans-28\"/>\n      <use x=\"260.986328\" xlink:href=\"#DejaVuSans-45\"/>\n      <use x=\"324.169922\" xlink:href=\"#DejaVuSans-76\"/>\n      <use x=\"383.349609\" xlink:href=\"#DejaVuSans-65\"/>\n      <use x=\"444.873047\" xlink:href=\"#DejaVuSans-6e\"/>\n      <use x=\"508.251953\" xlink:href=\"#DejaVuSans-74\"/>\n      <use x=\"547.460938\" xlink:href=\"#DejaVuSans-20\"/>\n      <use x=\"579.248047\" xlink:href=\"#DejaVuSans-31\"/>\n      <use x=\"642.871094\" xlink:href=\"#DejaVuSans-29\"/>\n     </g>\n    </g>\n    <g id=\"line2d_19\">\n     <path d=\"M 393.371875 50.094687 \nL 413.371875 50.094687 \n\" style=\"fill:none;stroke:#ff7f0e;stroke-linecap:square;stroke-width:1.5;\"/>\n    </g>\n    <g id=\"line2d_20\"/>\n    <g id=\"text_19\">\n     <!-- ERF (Event 2) -->\n     <g transform=\"translate(421.371875 53.594687)scale(0.1 -0.1)\">\n      <use xlink:href=\"#DejaVuSans-45\"/>\n      <use x=\"63.183594\" xlink:href=\"#DejaVuSans-52\"/>\n      <use x=\"132.666016\" xlink:href=\"#DejaVuSans-46\"/>\n      <use x=\"190.185547\" xlink:href=\"#DejaVuSans-20\"/>\n      <use x=\"221.972656\" xlink:href=\"#DejaVuSans-28\"/>\n      <use x=\"260.986328\" xlink:href=\"#DejaVuSans-45\"/>\n      <use x=\"324.169922\" xlink:href=\"#DejaVuSans-76\"/>\n      <use x=\"383.349609\" xlink:href=\"#DejaVuSans-65\"/>\n      <use x=\"444.873047\" xlink:href=\"#DejaVuSans-6e\"/>\n      <use x=\"508.251953\" xlink:href=\"#DejaVuSans-74\"/>\n      <use x=\"547.460938\" xlink:href=\"#DejaVuSans-20\"/>\n      <use x=\"579.248047\" xlink:href=\"#DejaVuSans-32\"/>\n      <use x=\"642.871094\" xlink:href=\"#DejaVuSans-29\"/>\n     </g>\n    </g>\n   </g>\n  </g>\n </g>\n <defs>\n  <clipPath id=\"paac8dce636\">\n   <rect height=\"217.44\" width=\"446.4\" x=\"52.160938\" y=\"22.318125\"/>\n  </clipPath>\n </defs>\n</svg>\n",
      "text/plain": [
       "<Figure size 576x288 with 1 Axes>"
      ]
     },
     "metadata": {
      "needs_background": "light"
     },
     "output_type": "display_data"
    },
    {
     "data": {
      "text/plain": [
       "<Figure size 432x288 with 0 Axes>"
      ]
     },
     "metadata": {},
     "output_type": "display_data"
    }
   ],
   "source": [
    "times = epochs1.times\n",
    "plt.close('all')\n",
    "plt.figure(figsize=(8, 4))\n",
    "plt.title('Channel : ' + channel)\n",
    "plt.plot(times, condition1.mean(axis=0),\n",
    "         label=\"ERF (Event 1)\")\n",
    "plt.plot(times, condition2.mean(axis=0),\n",
    "         label=\"ERF (Event 2)\")\n",
    "plt.ylabel(\"MEG (T / m)\")\n",
    "for i_c, c in enumerate(clusters):\n",
    "    c = c[0]\n",
    "    if cluster_p_values[i_c] <= 0.05:\n",
    "        h = plt.axvspan(times[c.start], times[c.stop - 1],\n",
    "                        color='r', alpha=0.3)\n",
    "    else:\n",
    "        plt.axvspan(times[c.start], times[c.stop - 1], color=(0.3, 0.3, 0.3),\n",
    "                    alpha=0.3)\n",
    "plt.legend()\n",
    "plt.show()\n",
    "plt.tight_layout()"
   ]
  },
  {
   "cell_type": "code",
   "execution_count": 33,
   "metadata": {},
   "outputs": [],
   "source": [
    "import os\n",
    "import numpy as np\n",
    "import pandas as pd\n",
    "with open(os.path.join(\"../data/exp_log.txt\"), \"r\") as f:\n",
    "    texts = f.readlines()"
   ]
  },
  {
   "cell_type": "code",
   "execution_count": 2,
   "metadata": {},
   "outputs": [],
   "source": [
    "task = None\n",
    "exclude_sub = [1, 5, 19, 28]\n",
    "info_dict = {col: [] for col in [\"task\", \"sub\", \"bad_ori\", \"bad_final\", \"comp_ori\", \"comp_final\", \"trials_ori\", \"trials_final\"]}\n",
    "for text in texts:\n",
    "    if text == \"\\n\" or len(text.split(\",\")) > 4:\n",
    "        continue\n",
    "    if len(text.split(\" \")) == 3:\n",
    "        task = text.split(\" \")[1]\n",
    "    else:\n",
    "        split_text = text.strip().replace(\" \", \"\").split(\",\")\n",
    "        if int(split_text[0].split(\"-\")[1]) in exclude_sub:\n",
    "            continue\n",
    "        # task\n",
    "        info_dict[\"task\"].append(task)\n",
    "        # sub\n",
    "        info_dict[\"sub\"].append(split_text[0])\n",
    "        # bad channels\n",
    "        info_dict[\"bad_ori\"].append(int(split_text[1].split(\":\")[1].split(\"/\")[1]))\n",
    "        info_dict[\"bad_final\"].append(int(split_text[1].split(\":\")[1].split(\"/\")[0]))\n",
    "        # components\n",
    "        info_dict[\"comp_ori\"].append(int(split_text[2].split(\":\")[1].split(\"/\")[1]))\n",
    "        info_dict[\"comp_final\"].append(int(split_text[2].split(\":\")[1].split(\"/\")[0]))\n",
    "        # trials\n",
    "        info_dict[\"trials_ori\"].append(int(split_text[3].split(\":\")[1].split(\"/\")[1]))\n",
    "        info_dict[\"trials_final\"].append(int(split_text[3].split(\":\")[1].split(\"/\")[0]))"
   ]
  },
  {
   "cell_type": "code",
   "execution_count": 30,
   "metadata": {},
   "outputs": [
    {
     "data": {
      "text/html": [
       "<div>\n",
       "<style scoped>\n",
       "    .dataframe tbody tr th:only-of-type {\n",
       "        vertical-align: middle;\n",
       "    }\n",
       "\n",
       "    .dataframe tbody tr th {\n",
       "        vertical-align: top;\n",
       "    }\n",
       "\n",
       "    .dataframe thead th {\n",
       "        text-align: right;\n",
       "    }\n",
       "</style>\n",
       "<table border=\"1\" class=\"dataframe\">\n",
       "  <thead>\n",
       "    <tr style=\"text-align: right;\">\n",
       "      <th></th>\n",
       "      <th>task</th>\n",
       "      <th>sub</th>\n",
       "      <th>bad_ori</th>\n",
       "      <th>bad_final</th>\n",
       "      <th>comp_ori</th>\n",
       "      <th>comp_final</th>\n",
       "      <th>trials_ori</th>\n",
       "      <th>trials_final</th>\n",
       "    </tr>\n",
       "  </thead>\n",
       "  <tbody>\n",
       "    <tr>\n",
       "      <th>0</th>\n",
       "      <td>foodchoice</td>\n",
       "      <td>sub-02</td>\n",
       "      <td>100</td>\n",
       "      <td>96</td>\n",
       "      <td>96</td>\n",
       "      <td>92</td>\n",
       "      <td>320</td>\n",
       "      <td>305</td>\n",
       "    </tr>\n",
       "    <tr>\n",
       "      <th>1</th>\n",
       "      <td>foodchoice</td>\n",
       "      <td>sub-03</td>\n",
       "      <td>100</td>\n",
       "      <td>97</td>\n",
       "      <td>97</td>\n",
       "      <td>95</td>\n",
       "      <td>320</td>\n",
       "      <td>304</td>\n",
       "    </tr>\n",
       "    <tr>\n",
       "      <th>2</th>\n",
       "      <td>foodchoice</td>\n",
       "      <td>sub-04</td>\n",
       "      <td>100</td>\n",
       "      <td>96</td>\n",
       "      <td>96</td>\n",
       "      <td>88</td>\n",
       "      <td>320</td>\n",
       "      <td>282</td>\n",
       "    </tr>\n",
       "    <tr>\n",
       "      <th>3</th>\n",
       "      <td>foodchoice</td>\n",
       "      <td>sub-06</td>\n",
       "      <td>100</td>\n",
       "      <td>99</td>\n",
       "      <td>99</td>\n",
       "      <td>92</td>\n",
       "      <td>320</td>\n",
       "      <td>253</td>\n",
       "    </tr>\n",
       "    <tr>\n",
       "      <th>4</th>\n",
       "      <td>foodchoice</td>\n",
       "      <td>sub-07</td>\n",
       "      <td>100</td>\n",
       "      <td>100</td>\n",
       "      <td>100</td>\n",
       "      <td>96</td>\n",
       "      <td>320</td>\n",
       "      <td>299</td>\n",
       "    </tr>\n",
       "    <tr>\n",
       "      <th>...</th>\n",
       "      <td>...</td>\n",
       "      <td>...</td>\n",
       "      <td>...</td>\n",
       "      <td>...</td>\n",
       "      <td>...</td>\n",
       "      <td>...</td>\n",
       "      <td>...</td>\n",
       "      <td>...</td>\n",
       "    </tr>\n",
       "    <tr>\n",
       "      <th>76</th>\n",
       "      <td>imagechoice</td>\n",
       "      <td>sub-26</td>\n",
       "      <td>100</td>\n",
       "      <td>97</td>\n",
       "      <td>97</td>\n",
       "      <td>95</td>\n",
       "      <td>317</td>\n",
       "      <td>289</td>\n",
       "    </tr>\n",
       "    <tr>\n",
       "      <th>77</th>\n",
       "      <td>imagechoice</td>\n",
       "      <td>sub-27</td>\n",
       "      <td>100</td>\n",
       "      <td>94</td>\n",
       "      <td>94</td>\n",
       "      <td>92</td>\n",
       "      <td>312</td>\n",
       "      <td>279</td>\n",
       "    </tr>\n",
       "    <tr>\n",
       "      <th>78</th>\n",
       "      <td>imagechoice</td>\n",
       "      <td>sub-29</td>\n",
       "      <td>100</td>\n",
       "      <td>98</td>\n",
       "      <td>98</td>\n",
       "      <td>94</td>\n",
       "      <td>313</td>\n",
       "      <td>293</td>\n",
       "    </tr>\n",
       "    <tr>\n",
       "      <th>79</th>\n",
       "      <td>imagechoice</td>\n",
       "      <td>sub-30</td>\n",
       "      <td>100</td>\n",
       "      <td>93</td>\n",
       "      <td>93</td>\n",
       "      <td>89</td>\n",
       "      <td>295</td>\n",
       "      <td>277</td>\n",
       "    </tr>\n",
       "    <tr>\n",
       "      <th>80</th>\n",
       "      <td>imagechoice</td>\n",
       "      <td>sub-31</td>\n",
       "      <td>100</td>\n",
       "      <td>100</td>\n",
       "      <td>100</td>\n",
       "      <td>97</td>\n",
       "      <td>318</td>\n",
       "      <td>277</td>\n",
       "    </tr>\n",
       "  </tbody>\n",
       "</table>\n",
       "<p>81 rows × 8 columns</p>\n",
       "</div>"
      ],
      "text/plain": [
       "           task     sub  bad_ori  bad_final  comp_ori  comp_final  trials_ori  \\\n",
       "0    foodchoice  sub-02      100         96        96          92         320   \n",
       "1    foodchoice  sub-03      100         97        97          95         320   \n",
       "2    foodchoice  sub-04      100         96        96          88         320   \n",
       "3    foodchoice  sub-06      100         99        99          92         320   \n",
       "4    foodchoice  sub-07      100        100       100          96         320   \n",
       "..          ...     ...      ...        ...       ...         ...         ...   \n",
       "76  imagechoice  sub-26      100         97        97          95         317   \n",
       "77  imagechoice  sub-27      100         94        94          92         312   \n",
       "78  imagechoice  sub-29      100         98        98          94         313   \n",
       "79  imagechoice  sub-30      100         93        93          89         295   \n",
       "80  imagechoice  sub-31      100        100       100          97         318   \n",
       "\n",
       "    trials_final  \n",
       "0            305  \n",
       "1            304  \n",
       "2            282  \n",
       "3            253  \n",
       "4            299  \n",
       "..           ...  \n",
       "76           289  \n",
       "77           279  \n",
       "78           293  \n",
       "79           277  \n",
       "80           277  \n",
       "\n",
       "[81 rows x 8 columns]"
      ]
     },
     "execution_count": 30,
     "metadata": {},
     "output_type": "execute_result"
    }
   ],
   "source": [
    "info = pd.DataFrame(info_dict)\n",
    "info"
   ]
  },
  {
   "cell_type": "code",
   "execution_count": 49,
   "metadata": {},
   "outputs": [],
   "source": [
    "info[\"Bad channels\"] = info[\"bad_ori\"] - info[\"bad_final\"]\n",
    "info[\"Removed components\"] = info[\"comp_ori\"] - info[\"comp_final\"]\n",
    "info[\"Bad epochs\"] = info[\"trials_ori\"] - info[\"trials_final\"]\n",
    "info[\"Bad channels (%)\"] = np.round(100 * (info[\"Bad channels\"] / info[\"bad_ori\"]), decimals=1)\n",
    "info[\"Removed components (%)\"] = np.round(100 * (info[\"Removed components\"] / info[\"comp_ori\"]), decimals=1)\n",
    "info[\"Bad epochs (%)\"] = np.round(100 * (info[\"Bad epochs\"] / info[\"trials_ori\"]), decimals=1)"
   ]
  },
  {
   "cell_type": "code",
   "execution_count": 56,
   "metadata": {},
   "outputs": [
    {
     "name": "stdout",
     "output_type": "stream",
     "text": [
      "bad_ori       100.000000\n",
      "comp_ori       98.037037\n",
      "trials_ori    320.000000\n",
      "dtype: float64\n",
      "mean: Bad channels (%)          1.962963\n",
      "Removed components (%)    3.851852\n",
      "Bad epochs (%)            7.755556\n",
      "dtype: float64\n",
      "std: Bad channels (%)          1.285466\n",
      "Removed components (%)    1.796229\n",
      "Bad epochs (%)            4.426696\n",
      "dtype: float64\n"
     ]
    }
   ],
   "source": [
    "print(info[info[\"task\"] == \"foodchoice\"][[\"bad_ori\", \"comp_ori\", \"trials_ori\"]].mean())\n",
    "food_perc = info[info[\"task\"] == \"foodchoice\"][[\"sub\", \"Bad channels (%)\", \"Removed components (%)\", \"Bad epochs (%)\"]]\n",
    "print(f\"mean: {food_perc.iloc[:, 1:].mean()}\")\n",
    "print(f\"std: {food_perc.iloc[:, 1:].std()}\")\n",
    "food_perc.to_csv(\"../data/foodchoice.csv\", index=False)"
   ]
  },
  {
   "cell_type": "code",
   "execution_count": 57,
   "metadata": {},
   "outputs": [
    {
     "name": "stdout",
     "output_type": "stream",
     "text": [
      "bad_ori       100.000000\n",
      "comp_ori       97.444444\n",
      "trials_ori    309.925926\n",
      "dtype: float64\n",
      "mean: Bad channels (%)          2.555556\n",
      "Removed components (%)    3.070370\n",
      "Bad epochs (%)            8.492593\n",
      "dtype: float64\n",
      "std: Bad channels (%)          1.761410\n",
      "Removed components (%)    1.489402\n",
      "Bad epochs (%)            4.206399\n",
      "dtype: float64\n"
     ]
    }
   ],
   "source": [
    "print(info[info[\"task\"] == \"wordchoice\"][[\"bad_ori\", \"comp_ori\", \"trials_ori\"]].mean())\n",
    "word_perc = info[info[\"task\"] == \"wordchoice\"][[\"sub\", \"Bad channels (%)\", \"Removed components (%)\", \"Bad epochs (%)\"]]\n",
    "print(f\"mean: {word_perc.iloc[:, 1:].mean()}\")\n",
    "print(f\"std: {word_perc.iloc[:, 1:].std()}\")\n",
    "word_perc.to_csv(\"../data/wordchoice.csv\", index=False)"
   ]
  },
  {
   "cell_type": "code",
   "execution_count": 58,
   "metadata": {},
   "outputs": [
    {
     "name": "stdout",
     "output_type": "stream",
     "text": [
      "bad_ori       100.000000\n",
      "comp_ori       97.259259\n",
      "trials_ori    310.629630\n",
      "dtype: float64\n",
      "mean: Bad channels (%)           2.740741\n",
      "Removed components (%)     3.307407\n",
      "Bad epochs (%)            10.018519\n",
      "dtype: float64\n",
      "std: Bad channels (%)          1.852080\n",
      "Removed components (%)    1.030282\n",
      "Bad epochs (%)            5.615640\n",
      "dtype: float64\n"
     ]
    }
   ],
   "source": [
    "print(info[info[\"task\"] == \"imagechoice\"][[\"bad_ori\", \"comp_ori\", \"trials_ori\"]].mean())\n",
    "image_perc = info[info[\"task\"] == \"imagechoice\"][[\"sub\", \"Bad channels (%)\", \"Removed components (%)\", \"Bad epochs (%)\"]]\n",
    "print(f\"mean: {image_perc.iloc[:, 1:].mean()}\")\n",
    "print(f\"std: {image_perc.iloc[:, 1:].std()}\")\n",
    "image_perc.to_csv(\"../data/imagechoice.csv\", index=False)"
   ]
  },
  {
   "cell_type": "code",
   "execution_count": 5,
   "metadata": {},
   "outputs": [],
   "source": [
    "import os\n",
    "import shutil"
   ]
  },
  {
   "cell_type": "code",
   "execution_count": 6,
   "metadata": {},
   "outputs": [
    {
     "ename": "FileNotFoundError",
     "evalue": "[Errno 2] No such file or directory: '../data/EGI_REST/sub-01_task-resting_eeg.set'",
     "output_type": "error",
     "traceback": [
      "\u001b[0;31m---------------------------------------------------------------------------\u001b[0m",
      "\u001b[0;31mFileNotFoundError\u001b[0m                         Traceback (most recent call last)",
      "\u001b[0;32m/tmp/ipykernel_83599/3398828748.py\u001b[0m in \u001b[0;36m<module>\u001b[0;34m\u001b[0m\n\u001b[1;32m      2\u001b[0m     \u001b[0msub\u001b[0m \u001b[0;34m=\u001b[0m \u001b[0;34mf\"sub-{str(sub).zfill(2)}\"\u001b[0m\u001b[0;34m\u001b[0m\u001b[0;34m\u001b[0m\u001b[0m\n\u001b[1;32m      3\u001b[0m     \u001b[0mresting_set\u001b[0m \u001b[0;34m=\u001b[0m \u001b[0;34mf\"{sub}_task-resting_eeg.set\"\u001b[0m\u001b[0;34m\u001b[0m\u001b[0;34m\u001b[0m\u001b[0m\n\u001b[0;32m----> 4\u001b[0;31m     \u001b[0mshutil\u001b[0m\u001b[0;34m.\u001b[0m\u001b[0mcopyfile\u001b[0m\u001b[0;34m(\u001b[0m\u001b[0;34mf\"../data/EGI_REST/{resting_set}\"\u001b[0m\u001b[0;34m,\u001b[0m \u001b[0;34mf\"../data/EGI_TASK/{resting_set}\"\u001b[0m\u001b[0;34m)\u001b[0m\u001b[0;34m\u001b[0m\u001b[0;34m\u001b[0m\u001b[0m\n\u001b[0m",
      "\u001b[0;32m~/miniconda3/envs/eeg/lib/python3.9/shutil.py\u001b[0m in \u001b[0;36mcopyfile\u001b[0;34m(src, dst, follow_symlinks)\u001b[0m\n\u001b[1;32m    262\u001b[0m         \u001b[0mos\u001b[0m\u001b[0;34m.\u001b[0m\u001b[0msymlink\u001b[0m\u001b[0;34m(\u001b[0m\u001b[0mos\u001b[0m\u001b[0;34m.\u001b[0m\u001b[0mreadlink\u001b[0m\u001b[0;34m(\u001b[0m\u001b[0msrc\u001b[0m\u001b[0;34m)\u001b[0m\u001b[0;34m,\u001b[0m \u001b[0mdst\u001b[0m\u001b[0;34m)\u001b[0m\u001b[0;34m\u001b[0m\u001b[0;34m\u001b[0m\u001b[0m\n\u001b[1;32m    263\u001b[0m     \u001b[0;32melse\u001b[0m\u001b[0;34m:\u001b[0m\u001b[0;34m\u001b[0m\u001b[0;34m\u001b[0m\u001b[0m\n\u001b[0;32m--> 264\u001b[0;31m         \u001b[0;32mwith\u001b[0m \u001b[0mopen\u001b[0m\u001b[0;34m(\u001b[0m\u001b[0msrc\u001b[0m\u001b[0;34m,\u001b[0m \u001b[0;34m'rb'\u001b[0m\u001b[0;34m)\u001b[0m \u001b[0;32mas\u001b[0m \u001b[0mfsrc\u001b[0m\u001b[0;34m,\u001b[0m \u001b[0mopen\u001b[0m\u001b[0;34m(\u001b[0m\u001b[0mdst\u001b[0m\u001b[0;34m,\u001b[0m \u001b[0;34m'wb'\u001b[0m\u001b[0;34m)\u001b[0m \u001b[0;32mas\u001b[0m \u001b[0mfdst\u001b[0m\u001b[0;34m:\u001b[0m\u001b[0;34m\u001b[0m\u001b[0;34m\u001b[0m\u001b[0m\n\u001b[0m\u001b[1;32m    265\u001b[0m             \u001b[0;31m# macOS\u001b[0m\u001b[0;34m\u001b[0m\u001b[0;34m\u001b[0m\u001b[0;34m\u001b[0m\u001b[0m\n\u001b[1;32m    266\u001b[0m             \u001b[0;32mif\u001b[0m \u001b[0m_HAS_FCOPYFILE\u001b[0m\u001b[0;34m:\u001b[0m\u001b[0;34m\u001b[0m\u001b[0;34m\u001b[0m\u001b[0m\n",
      "\u001b[0;31mFileNotFoundError\u001b[0m: [Errno 2] No such file or directory: '../data/EGI_REST/sub-01_task-resting_eeg.set'"
     ]
    }
   ],
   "source": [
    "for sub in range(1, 32):\n",
    "    sub = f\"sub-{str(sub).zfill(2)}\"\n",
    "    resting_set = f\"{sub}_task-resting_eeg.set\"\n",
    "    shutil.copyfile(f\"../data/EGI_REST/{resting_set}\", f\"../data/EGI_TASK/{resting_set}\")"
   ]
  },
  {
   "cell_type": "code",
   "execution_count": 2,
   "metadata": {},
   "outputs": [
    {
     "data": {
      "text/plain": [
       "['sub-15_task-rest_eeg.set',\n",
       " 'sub-01_task-rest_eeg.set',\n",
       " 'sub-02_task-rest_eeg.set',\n",
       " 'sub-03_task-rest_eeg.set',\n",
       " 'sub-04_task-rest_eeg.set',\n",
       " 'sub-05_task-rest_eeg.set',\n",
       " 'sub-06_task-rest_eeg.set',\n",
       " 'sub-07_task-rest_eeg.set',\n",
       " 'sub-08_task-rest_eeg.set',\n",
       " 'sub-09_task-rest_eeg.set',\n",
       " 'sub-10_task-rest_eeg.set',\n",
       " 'sub-11_task-rest_eeg.set',\n",
       " 'sub-12_task-rest_eeg.set',\n",
       " 'sub-13_task-rest_eeg.set',\n",
       " 'sub-14_task-rest_eeg.set',\n",
       " 'sub-16_task-rest_eeg.set',\n",
       " 'sub-17_task-rest_eeg.set',\n",
       " 'sub-18_task-rest_eeg.set',\n",
       " 'sub-19_task-rest_eeg.set',\n",
       " 'sub-20_task-rest_eeg.set',\n",
       " 'sub-21_task-rest_eeg.set',\n",
       " 'sub-22_task-rest_eeg.set',\n",
       " 'sub-23_task-rest_eeg.set',\n",
       " 'sub-24_task-rest_eeg.set',\n",
       " 'sub-25_task-rest_eeg.set',\n",
       " 'sub-26_task-rest_eeg.set',\n",
       " 'sub-27_task-rest_eeg.set',\n",
       " 'sub-28_task-rest_eeg.set',\n",
       " 'sub-29_task-rest_eeg.set',\n",
       " 'sub-30_task-rest_eeg.set',\n",
       " 'sub-31_task-rest_eeg.set']"
      ]
     },
     "execution_count": 2,
     "metadata": {},
     "output_type": "execute_result"
    }
   ],
   "source": [
    "os.listdir(os.path.join(\"../data/EGI_REST\"))"
   ]
  }
 ],
 "metadata": {
  "interpreter": {
   "hash": "52ebc9b852cbba287a04e33bfd2a062dc1337ed1d55768405efe5997548ba37a"
  },
  "kernelspec": {
   "display_name": "Python 3.9.10 ('base')",
   "language": "python",
   "name": "python3"
  },
  "language_info": {
   "codemirror_mode": {
    "name": "ipython",
    "version": 3
   },
   "file_extension": ".py",
   "mimetype": "text/x-python",
   "name": "python",
   "nbconvert_exporter": "python",
   "pygments_lexer": "ipython3",
   "version": "3.9.6"
  },
  "orig_nbformat": 4
 },
 "nbformat": 4,
 "nbformat_minor": 2
}
