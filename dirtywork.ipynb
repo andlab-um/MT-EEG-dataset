{
 "metadata": {
  "language_info": {
   "codemirror_mode": {
    "name": "ipython",
    "version": 3
   },
   "file_extension": ".py",
   "mimetype": "text/x-python",
   "name": "python",
   "nbconvert_exporter": "python",
   "pygments_lexer": "ipython3",
   "version": "3.8.3-final"
  },
  "orig_nbformat": 2,
  "kernelspec": {
   "name": "Python 3.8.3 64-bit (conda)",
   "display_name": "Python 3.8.3 64-bit (conda)",
   "metadata": {
    "interpreter": {
     "hash": "38ef801049279a193b5886f069dab2a750b018e1af93efb22ea8210fc2c9a190"
    }
   }
  }
 },
 "nbformat": 4,
 "nbformat_minor": 2,
 "cells": [
  {
   "source": [
    "## 1. update xml file"
   ],
   "cell_type": "markdown",
   "metadata": {}
  },
  {
   "cell_type": "code",
   "execution_count": 12,
   "metadata": {},
   "outputs": [],
   "source": [
    "from lxml import etree"
   ]
  },
  {
   "cell_type": "code",
   "execution_count": 13,
   "metadata": {},
   "outputs": [],
   "source": [
    "xml_path = r\"C:\\Users\\const\\OneDrive\\Desktop\\research\\projects\\mouse-eeg\\data\\sub-001\\eeg\\sub-001_task-foodchoice_eeg.mff\\Events_ECI TCP-IP 55513.xml\".replace(\"\\\\\", r\"\\\\\")\n",
    "header = '<?xml version=\"1.0\" encoding=\"UTF-8\"?>'\n",
    "ns = \"http://www.egi.com/event_mff\""
   ]
  },
  {
   "cell_type": "code",
   "execution_count": 14,
   "metadata": {},
   "outputs": [],
   "source": [
    "doc = etree.parse(xml_path)"
   ]
  },
  {
   "cell_type": "code",
   "execution_count": 11,
   "metadata": {},
   "outputs": [],
   "source": [
    "for children in doc.iter():\n",
    "    if children.tag == \"{{{}}}code\".format(ns):\n",
    "        if children.text == \"fddi\":\n",
    "            children.text = \"fded\"\n",
    "        pass"
   ]
  },
  {
   "cell_type": "code",
   "execution_count": 10,
   "metadata": {},
   "outputs": [],
   "source": [
    "doc.write(xml_path, encoding=\"utf-8\", method=\"html\", docstring=header)"
   ]
  }
 ]
}